{
  "nbformat": 4,
  "nbformat_minor": 0,
  "metadata": {
    "colab": {
      "provenance": [],
      "authorship_tag": "ABX9TyN/OC9AAJZmcs4zgOLWR879",
      "include_colab_link": true
    },
    "kernelspec": {
      "name": "python3",
      "display_name": "Python 3"
    },
    "language_info": {
      "name": "python"
    }
  },
  "cells": [
    {
      "cell_type": "markdown",
      "metadata": {
        "id": "view-in-github",
        "colab_type": "text"
      },
      "source": [
        "<a href=\"https://colab.research.google.com/github/2211CS020153/AD-NLP/blob/main/15-03-25.ipynb\" target=\"_parent\"><img src=\"https://colab.research.google.com/assets/colab-badge.svg\" alt=\"Open In Colab\"/></a>"
      ]
    },
    {
      "cell_type": "code",
      "source": [
        "import google.generativeai as genai\n",
        "\n",
        "from google.colab import userdata\n",
        "\n",
        "GOOGLE_API_KEY=userdata.get('GOOGLE_API_KEY')\n",
        "\n",
        "genai.configure(api_key=GOOGLE_API_KEY)\n",
        "\n",
        "\n",
        "\n",
        "\n"
      ],
      "metadata": {
        "id": "d4O3sN_ocHdv"
      },
      "execution_count": null,
      "outputs": []
    },
    {
      "cell_type": "code",
      "source": [
        "import pathlib\n",
        "\n",
        "import textwrap\n",
        "\n",
        "from IPython.display import display, Markdown\n",
        "\n",
        "def to_markdown(text):\n",
        "\n",
        "  text = text.replace('•', '  *')\n",
        "\n",
        "  return Markdown(textwrap.indent(text, '> ', predicate=lambda _: True))\n",
        "\n",
        "\n",
        "\n",
        "\n"
      ],
      "metadata": {
        "id": "zGlZqWo3cOZ1"
      },
      "execution_count": null,
      "outputs": []
    },
    {
      "cell_type": "code",
      "execution_count": null,
      "metadata": {
        "colab": {
          "base_uri": "https://localhost:8080/",
          "height": 141
        },
        "id": "oU-LRgeAXfc4",
        "outputId": "8818dac8-e6d2-403e-8177-408a02610f9f"
      },
      "outputs": [
        {
          "output_type": "error",
          "ename": "AttributeError",
          "evalue": "module 'google.generativeai' has no attribute 'Client'",
          "traceback": [
            "\u001b[0;31m---------------------------------------------------------------------------\u001b[0m",
            "\u001b[0;31mAttributeError\u001b[0m                            Traceback (most recent call last)",
            "\u001b[0;32m<ipython-input-16-3c5178f3e270>\u001b[0m in \u001b[0;36m<cell line: 0>\u001b[0;34m()\u001b[0m\n\u001b[0;32m----> 1\u001b[0;31m \u001b[0mclient\u001b[0m \u001b[0;34m=\u001b[0m \u001b[0mgenai\u001b[0m\u001b[0;34m.\u001b[0m\u001b[0mClient\u001b[0m\u001b[0;34m(\u001b[0m\u001b[0mapi_key\u001b[0m\u001b[0;34m=\u001b[0m\u001b[0mGOOGLE_API_KEY\u001b[0m\u001b[0;34m)\u001b[0m\u001b[0;34m\u001b[0m\u001b[0;34m\u001b[0m\u001b[0m\n\u001b[0m",
            "\u001b[0;31mAttributeError\u001b[0m: module 'google.generativeai' has no attribute 'Client'"
          ]
        }
      ],
      "source": [
        "client = genai.Client(api_key=GOOGLE_API_KEY)"
      ]
    },
    {
      "cell_type": "code",
      "source": [
        "import pathlib\n",
        "import textwrap\n",
        "from IPython.display import display, Markdown\n",
        "def to_markdown(text):\n",
        "  text = text.replace('•', '  *')\n",
        "  return Markdown(textwrap.indent(text, '> ', predicate=lambda _: True))"
      ],
      "metadata": {
        "id": "e9zwFcTLYjuN"
      },
      "execution_count": null,
      "outputs": []
    },
    {
      "cell_type": "code",
      "source": [
        "import PIL.Image\n",
        "img = PIL.Image.open('/content/image1.jpg')\n",
        "imgmodel = genai.GenerativeModel('gemini-1.5-flash')\n",
        "model = genai.GenerativeModel('gemini-1.5-flash')\n",
        "response = model.generate_content([\"Write a short, engaging blog post based on this picture.It should include a description of the meal in the photo and talk about my journey meal prepping.\", img],stream=True)\n",
        "response.resolve()"
      ],
      "metadata": {
        "id": "vmZO1fARYjw1"
      },
      "execution_count": null,
      "outputs": []
    },
    {
      "cell_type": "code",
      "source": [
        "to_markdown(response.text)"
      ],
      "metadata": {
        "colab": {
          "base_uri": "https://localhost:8080/",
          "height": 484
        },
        "id": "CQRx-Cyqb0DQ",
        "outputId": "bfb18b82-e57d-46b4-f027-752129f9d0b9"
      },
      "execution_count": null,
      "outputs": [
        {
          "output_type": "execute_result",
          "data": {
            "text/plain": [
              "<IPython.core.display.Markdown object>"
            ],
            "text/markdown": "> ## My Meal Prep Journey: From Chaos to Colorful Containers!\n> \n> Look at these beauties!  That's not just lunch, that's a testament to my newfound love of meal prepping.  These two containers hold perfectly portioned servings of deliciousness: tender chicken stir-fry with fluffy white rice, vibrant red and orange carrots, and a generous helping of broccoli.  The colors alone make me happy!\n> \n> My meal prep journey started as a chaotic mess.  I'd spend my evenings frantically searching for something healthy to eat, often resorting to takeout or unhealthy convenience food.  Sound familiar?\n> \n> Then, the scales tipped (literally!).  I decided enough was enough and plunged into the world of meal prepping.  At first, it felt overwhelming.  Grocery shopping took forever, the cooking seemed endless, and the clean-up... don't even get me started.\n> \n> But slowly, things changed.  I found recipes I actually enjoyed, developed a system for prepping ingredients in advance (chopping vegetables on Sunday is my new favorite self-care ritual!), and discovered the joy of having healthy, tasty meals ready to go whenever I needed them.\n> \n> Now, instead of stressful evenings, I have calm, controlled meals. I’ve got more energy, I feel healthier, and honestly, meal prepping has become a satisfying creative outlet.  \n> \n> So, if you're considering jumping on the meal prep bandwagon, I highly recommend it!  Start small, find recipes you love, and don't be afraid to experiment.  You might just surprise yourself with how much you enjoy it – and how much better you feel!  And who knows, maybe you'll even end up with a gorgeous spread of colorful goodness like this!\n"
          },
          "metadata": {},
          "execution_count": 17
        }
      ]
    },
    {
      "cell_type": "code",
      "source": [
        "response = model.generate_content([\"Generate an accurate caption for this image.\", img])\n",
        "print(response.text)"
      ],
      "metadata": {
        "colab": {
          "base_uri": "https://localhost:8080/",
          "height": 401
        },
        "id": "aOioXRAib0Gt",
        "outputId": "c9072a69-967b-49cf-b9e2-8161539676ba"
      },
      "execution_count": null,
      "outputs": [
        {
          "output_type": "stream",
          "name": "stdout",
          "text": [
            "Here are a few caption options for the image:\n",
            "\n",
            "**Option 1 (Simple & descriptive):**\n",
            "\n",
            "> Healthy and delicious meal prep!  Chicken and broccoli with rice.\n",
            "\n",
            "**Option 2 (Slightly more engaging):**\n",
            "\n",
            "> Lunch goals!  These chicken and veggie bowls are packed with flavor and ready to go. #mealprep #healthyfood #lunchideas\n",
            "\n",
            "**Option 3 (Focus on convenience):**\n",
            "\n",
            "> Easy weeknight dinners start with meal prepping!  These tasty containers are perfect for grab-and-go lunches or dinners.\n",
            "\n",
            "**Option 4 (More detailed):**\n",
            "\n",
            "> Teriyaki chicken and broccoli bowls with rice.  A quick and easy way to enjoy a balanced and flavorful meal.  Perfect for meal prepping! #teriyaki #chicken #broccoli #mealprepsunday\n",
            "\n",
            "\n",
            "Choose the caption that best suits your intended audience and platform.\n",
            "\n"
          ]
        }
      ]
    },
    {
      "cell_type": "code",
      "source": [
        "from PIL import Image\n",
        "image_path = \"/content/girl.jpg\"\n",
        "image = Image.open(image_path)\n",
        "response = model.generate_content([\"Describe this image in detail.\", image])\n",
        "print(response.text)"
      ],
      "metadata": {
        "colab": {
          "base_uri": "https://localhost:8080/",
          "height": 211
        },
        "id": "FCn7RTEOfIWy",
        "outputId": "80cd40b8-dd66-4bea-8b21-b6cb1a154e94"
      },
      "execution_count": null,
      "outputs": [
        {
          "output_type": "stream",
          "name": "stdout",
          "text": [
            "Here's a description of the image:\n",
            "\n",
            "Close-up view of a woman with shoulder-length, curly brown hair. \n",
            "\n",
            "\n",
            "She is smiling and gesturing with her right index finger, pointing towards something off-camera to the left. Her arms are partially crossed, and her expression is friendly and inviting, suggesting she is making a suggestion or pointing out something of interest.\n",
            "\n",
            "\n",
            "She's wearing a teal-colored, three-quarter-sleeved top or kurta with a subtle, repeating gold pattern. The top has a modest neckline. The background is a plain, bright white, which keeps the focus entirely on the woman. Her skin tone is medium, and she appears to have dark eyes and eyebrows. The overall impression is one of approachability and casual elegance.\n",
            "\n"
          ]
        }
      ]
    },
    {
      "cell_type": "code",
      "source": [
        "from PIL import Image\n",
        "image_path = \"/content/WhatsApp Image 2025-02-11 at 7.15.48 AM.jpeg\"\n",
        "image = Image.open(image_path)\n",
        "response = model.generate_content([\"Describe this image in detail.\", image])\n",
        "print(response.text)"
      ],
      "metadata": {
        "colab": {
          "base_uri": "https://localhost:8080/",
          "height": 315
        },
        "id": "bHPP0jsbg2bu",
        "outputId": "758c4d45-a9d7-4f22-b9b6-917ffe923579"
      },
      "execution_count": null,
      "outputs": [
        {
          "output_type": "stream",
          "name": "stdout",
          "text": [
            "Here's a description of the image:\n",
            "\n",
            "Eye-level medium indoor shot of a young man seated in a dark brown leather armchair. \n",
            "\n",
            "\n",
            "Here's a breakdown of the details:\n",
            "\n",
            "* **The Man:** He appears to be of South Asian descent, with short dark hair and a mustache. He's wearing a light beige and brown checkered, long-sleeved button-down shirt and blue jeans. His expression is pleasant and relaxed; he's smiling slightly. One hand rests on the armrest of the chair, the other is casually raised. He is wearing a dark-colored wristwatch.\n",
            "\n",
            "* **The Chair:** A dark brown leather armchair with a slightly high back and rounded arms. It appears to be comfortable and well-maintained.\n",
            "\n",
            "* **The Setting:** The background features a green artificial grass wall, which is partially obscured by a dark brown wooden sign with the word \"Tile\" (partially visible) in green lettering. There is also a blurred, out-of-focus area behind the man which shows a glass partition with a partially visible green design or logo (perhaps \"Indian\" in green).\n",
            "\n",
            "* **Foreground:** A round, dark brown wooden table is in the foreground, partially obscuring the lower part of the man and chair. A pair of eyeglasses is partially visible on the table.\n",
            "\n",
            "The overall impression is a casual portrait of the young man, in a relaxed setting that might be a cafe, restaurant, or office waiting area. The lighting is fairly even and not harsh.\n"
          ]
        }
      ]
    },
    {
      "cell_type": "code",
      "source": [
        "response = model.generate_content([\"Describe this image in detail.\", image])\n",
        "print(response.text)"
      ],
      "metadata": {
        "colab": {
          "base_uri": "https://localhost:8080/",
          "height": 332
        },
        "id": "CWkCWBqAhekP",
        "outputId": "ff4f9a17-c381-4efd-a591-aa97b0f31878"
      },
      "execution_count": null,
      "outputs": [
        {
          "output_type": "stream",
          "name": "stdout",
          "text": [
            "Here's a description of the image:\n",
            "\n",
            "Close-up view of a young man seated in a dark brown leather armchair. \n",
            "\n",
            "\n",
            "Here's a breakdown of the details:\n",
            "\n",
            "* **The Man:** He appears to be of South Asian descent, with short, dark hair. He's wearing a light beige and brown plaid long-sleeved shirt and blue jeans. His expression is pleasant, with a slight smile. He's casually sitting, with one arm resting on the armrest and the other hand raised near his face. He's wearing a dark-colored wristwatch.\n",
            "\n",
            "* **The Chair:** A dark brown leather armchair with a slightly high back. It appears to be comfortable and well-maintained.\n",
            "\n",
            "* **The Setting:** The background features a wall covered with artificial green turf or grass, which seems to be part of an interior design element. There's also a wooden sign partially visible, with stylized green lettering (partially visible; only “llew” is clear). Behind the chair and man is a window or glass partition with a white, somewhat abstract design and the partially visible green word \"IAM\" on it.\n",
            "\n",
            "* **Foreground:** A dark brown circular table is in the foreground, partially obscuring the lower portion of the man's legs. A pair of eyeglasses is visible on the table's edge.\n",
            "\n",
            "The overall impression is a casual portrait, possibly taken in a restaurant or cafe setting with a modern, somewhat stylized interior. The lighting is good, making the image clear and well-lit.\n",
            "\n"
          ]
        }
      ]
    },
    {
      "cell_type": "code",
      "source": [
        "image_path = \"/content/quote.jpg\"\n",
        "image = Image.open(image_path)\n",
        "response = model.generate_content([\"Describe this image in detail.\", image])\n",
        "print(response.text)"
      ],
      "metadata": {
        "colab": {
          "base_uri": "https://localhost:8080/",
          "height": 297
        },
        "id": "VA7tHx3OjEZ5",
        "outputId": "60809345-5c59-4a29-9568-77270ec64d72"
      },
      "execution_count": null,
      "outputs": [
        {
          "output_type": "stream",
          "name": "stdout",
          "text": [
            "Here's a description of the image:\n",
            "\n",
            "Close-up view of four light-brown wooden blocks stacked vertically against a cracked, light-brown earth or stone background. \n",
            "\n",
            "\n",
            "The blocks have a simple, slightly rough texture. Each block contains a line of black, uppercase text. The text reads:\n",
            "\n",
            "* **FAILURE is not the** (top block)\n",
            "* **opposite of success** (second block)\n",
            "* **it's PART OF** (third block)\n",
            "* **SUCCESS** (bottom block)\n",
            "\n",
            "\n",
            "The background is a naturally textured surface with prominent cracks, suggesting dry, possibly arid land. The lighting is relatively bright, casting subtle shadows and highlighting the texture of both the blocks and the background. The overall mood is motivational and reflective.\n",
            "\n"
          ]
        }
      ]
    },
    {
      "cell_type": "code",
      "source": [
        "# Open an image (change 'logo.jpg' to your actual file)\n",
        "\n",
        "image_path = \"logo1.jpg\"\n",
        "\n",
        "image = Image.open(image_path)\n",
        "\n",
        "# Ask Gemini to recognize the brand/logo\n",
        "\n",
        "response = model.generate_content([\"Identify the brand or company associated with this logo.\", image])\n",
        "\n",
        "print(response.text)\n",
        "\n",
        "\n",
        "\n",
        "\n"
      ],
      "metadata": {
        "colab": {
          "base_uri": "https://localhost:8080/",
          "height": 52
        },
        "id": "XJzNKdjjWxIn",
        "outputId": "ea14fefd-5214-4b9a-88a7-f3f6a65e4acb"
      },
      "execution_count": null,
      "outputs": [
        {
          "output_type": "stream",
          "name": "stdout",
          "text": [
            "That's the logo for **Amazon**.\n",
            "\n"
          ]
        }
      ]
    },
    {
      "cell_type": "code",
      "source": [
        "image_path = \"product.jpg\"\n",
        "\n",
        "image = Image.open(image_path)\n",
        "\n",
        "model = genai.GenerativeModel('gemini-1.5-flash')\n",
        "\n",
        "response = model.generate_content([\"What product is shown in this image?\", image])\n",
        "\n",
        "print(response.text)\n",
        "\n",
        "\n",
        "\n",
        "\n"
      ],
      "metadata": {
        "colab": {
          "base_uri": "https://localhost:8080/",
          "height": 34
        },
        "id": "MMw-Mz1iWxLA",
        "outputId": "a16f9c97-22dd-4170-bf68-a1a04ec42f28"
      },
      "execution_count": null,
      "outputs": [
        {
          "output_type": "stream",
          "name": "stdout",
          "text": [
            "That's a pair of black over-ear headphones.\n"
          ]
        }
      ]
    },
    {
      "cell_type": "code",
      "source": [
        "import google.generativeai as genai\n",
        "\n",
        "from google.colab import userdata\n",
        "\n",
        "GOOGLE_API_KEY=userdata.get('GOOGLE_API_KEY')\n",
        "\n",
        "genai.configure(api_key=GOOGLE_API_KEY)\n",
        "\n",
        "\n",
        "\n",
        "\n"
      ],
      "metadata": {
        "id": "jEV2XAX5WxNU"
      },
      "execution_count": null,
      "outputs": []
    },
    {
      "cell_type": "code",
      "source": [
        "response = model.generate_content([\"Suggest similar products to this one.\", image])\n",
        "\n",
        "print(response.text)\n",
        "\n",
        "\n",
        "\n",
        "\n"
      ],
      "metadata": {
        "colab": {
          "base_uri": "https://localhost:8080/",
          "height": 401
        },
        "id": "asC2naaqWxP-",
        "outputId": "c2b5c0ba-0686-4647-d671-b9c4ce3b98c0"
      },
      "execution_count": null,
      "outputs": [
        {
          "output_type": "stream",
          "name": "stdout",
          "text": [
            "Here are some similar products to the pictured black over-ear headphones:\n",
            "\n",
            "**Focusing on similar style and features:**\n",
            "\n",
            "* **Sony WH-CH710N:** These offer noise cancellation, a comfortable design, and long battery life.  They are a popular choice in a similar price range.\n",
            "* **Audio-Technica ATH-M50x:** Known for their studio-quality sound and durability, these are a popular choice among audiophiles and music professionals. They lack noise cancellation, however.\n",
            "* **Bose QuietComfort 45:**  A premium option known for excellent noise cancellation and comfortable listening.  Expect a higher price point.\n",
            "* **JBL Tune 760NC:**  These are budget-friendly headphones with noise cancellation, making them a good value option.\n",
            "\n",
            "\n",
            "**To give more specific recommendations, I need more information about what aspects of the pictured headphones are most important to you:**\n",
            "\n",
            "* **Budget:** How much are you willing to spend?\n",
            "* **Sound Quality:**  Are you looking for bass-heavy, balanced, or bright sound?\n",
            "* **Noise Cancellation:**  Is noise cancellation important to you?\n",
            "* **Comfort:** How important is comfort for extended listening sessions?\n",
            "* **Features:** Do you need features like Bluetooth, a microphone, or a carrying case?\n",
            "\n",
            "\n",
            "Once I have this information, I can provide more tailored recommendations.\n",
            "\n"
          ]
        }
      ]
    },
    {
      "cell_type": "code",
      "source": [
        "# Open an image containing a price\n",
        "\n",
        "image_path = \"invoice.jpg\"  # Change to your image file\n",
        "\n",
        "image = Image.open(image_path)\n",
        "\n",
        "# Ask Gemini AI to extract the price\n",
        "\n",
        "response = model.generate_content([\"Extract the price from this image.\", image])\n",
        "\n",
        "print(response.text)\n",
        "\n",
        "\n",
        "\n",
        "\n"
      ],
      "metadata": {
        "colab": {
          "base_uri": "https://localhost:8080/",
          "height": 34
        },
        "id": "ygnA_aCbWxSX",
        "outputId": "7eac4f23-ec1f-403e-dab1-4111202785f1"
      },
      "execution_count": null,
      "outputs": [
        {
          "output_type": "stream",
          "name": "stdout",
          "text": [
            "The price of each item on the invoice is $10.00.  The sub-total is $100.00, the tax is 10%, and the grand total is $100.00.\n"
          ]
        }
      ]
    },
    {
      "cell_type": "code",
      "source": [
        "response = model.generate_content([\"Extract the price, currency, and any discounts from this image.\", image])\n",
        "\n",
        "print(response.text)\n",
        "\n",
        "\n",
        "\n",
        "\n"
      ],
      "metadata": {
        "colab": {
          "base_uri": "https://localhost:8080/",
          "height": 104
        },
        "id": "jNxJxDOFWxVN",
        "outputId": "14dc546e-4261-444b-d60e-b209b3af6fad"
      },
      "execution_count": null,
      "outputs": [
        {
          "output_type": "stream",
          "name": "stdout",
          "text": [
            "Here's the extracted information from the provided invoice image:\n",
            "\n",
            "* **Price:** $10.00 (per item)\n",
            "* **Currency:** USD ($)\n",
            "* **Discounts:** No discounts are applied.  There is a 10% tax applied, but this is not a discount.\n"
          ]
        }
      ]
    },
    {
      "cell_type": "code",
      "source": [
        "image = Image.open(\"items.jpg\")\n",
        "\n",
        "response = model.generate_content([\"List all objects in this image and count how many of each are present.\", image])\n",
        "\n",
        "print(response.text)\n",
        "\n",
        "\n",
        "\n",
        "\n"
      ],
      "metadata": {
        "colab": {
          "base_uri": "https://localhost:8080/",
          "height": 503
        },
        "id": "xfB2TUzlWxX5",
        "outputId": "755f8299-d91c-4a59-b28a-87d91e744e91"
      },
      "execution_count": null,
      "outputs": [
        {
          "output_type": "stream",
          "name": "stdout",
          "text": [
            "Here's a list of the objects in the image and their counts:\n",
            "\n",
            "**Countables:**\n",
            "\n",
            "* Eggs: 3\n",
            "* Banana: 1\n",
            "* Olive: 2\n",
            "* Fries: 1 (portion)\n",
            "* Burger: 1\n",
            "* Hot dog: 1\n",
            "* Apple: 1\n",
            "* Carrots: 2\n",
            "* Tomatoes: 3\n",
            "* Watermelon: 1\n",
            "\n",
            "\n",
            "**Uncountables:**\n",
            "\n",
            "* Milk: 1 (bottle)\n",
            "* Flour: 1 (bag)\n",
            "* Salt: 1 (pile)\n",
            "* Sugar: 1 (bowl)\n",
            "* Jam: 1 (jar)\n",
            "* Meat: 2 (slices)\n",
            "* Rice: 1 (bowl)\n",
            "* Honey: 1 (jar)\n",
            "* Tea: 1 (cup)\n",
            "* Cheese: 1 (slice)\n"
          ]
        }
      ]
    },
    {
      "cell_type": "code",
      "source": [
        "!pip install youtube-transcript-api pytube\n",
        "\n",
        "\n",
        "\n",
        "\n"
      ],
      "metadata": {
        "colab": {
          "base_uri": "https://localhost:8080/"
        },
        "id": "YBNtdFa6Wxbd",
        "outputId": "8e13efc5-b2f7-47cc-e1ad-89de2ec3dbcd"
      },
      "execution_count": null,
      "outputs": [
        {
          "output_type": "stream",
          "name": "stdout",
          "text": [
            "Requirement already satisfied: youtube-transcript-api in /usr/local/lib/python3.11/dist-packages (1.0.1)\n",
            "Requirement already satisfied: pytube in /usr/local/lib/python3.11/dist-packages (15.0.0)\n",
            "Requirement already satisfied: defusedxml<0.8.0,>=0.7.1 in /usr/local/lib/python3.11/dist-packages (from youtube-transcript-api) (0.7.1)\n",
            "Requirement already satisfied: requests in /usr/local/lib/python3.11/dist-packages (from youtube-transcript-api) (2.32.3)\n",
            "Requirement already satisfied: charset-normalizer<4,>=2 in /usr/local/lib/python3.11/dist-packages (from requests->youtube-transcript-api) (3.4.1)\n",
            "Requirement already satisfied: idna<4,>=2.5 in /usr/local/lib/python3.11/dist-packages (from requests->youtube-transcript-api) (3.10)\n",
            "Requirement already satisfied: urllib3<3,>=1.21.1 in /usr/local/lib/python3.11/dist-packages (from requests->youtube-transcript-api) (2.3.0)\n",
            "Requirement already satisfied: certifi>=2017.4.17 in /usr/local/lib/python3.11/dist-packages (from requests->youtube-transcript-api) (2025.1.31)\n"
          ]
        }
      ]
    },
    {
      "cell_type": "code",
      "source": [
        "from youtube_transcript_api import YouTubeTranscriptApi\n",
        "\n",
        "def get_youtube_transcript(video_url):\n",
        "\n",
        "    \"\"\"Fetches the transcript of a YouTube video.\"\"\"\n",
        "\n",
        "    video_id = video_url.split(\"v=\")[1].split(\"&\")[0]  # Extract video ID\n",
        "\n",
        "    transcript = YouTubeTranscriptApi.get_transcript(video_id)\n",
        "\n",
        "    full_text = \" \".join([t[\"text\"] for t in transcript])\n",
        "\n",
        "    return full_text\n",
        "\n",
        "# Example Usage\n",
        "\n",
        "video_url = \"https://www.youtube.com/watch?v=unYDoA8QGH0&list=PLWEpztHwA4ZT2QlHC74oIz4MsawcvE-QX\"\n",
        "\n",
        "video_transcript = get_youtube_transcript(video_url)\n",
        "\n",
        "print(\"Transcript:\\n\", video_transcript[:500])  # Show first 500 characters\n",
        "\n",
        "\n",
        "\n",
        "\n"
      ],
      "metadata": {
        "colab": {
          "base_uri": "https://localhost:8080/"
        },
        "id": "pQnHfIe-XQJS",
        "outputId": "d3d276d0-73d3-40d1-a254-19aa77683503"
      },
      "execution_count": null,
      "outputs": [
        {
          "output_type": "stream",
          "name": "stdout",
          "text": [
            "Transcript:\n",
            " hi guys today I'm going to introduce you what is machine learning uh these are my presentation content what is machine learning what are the different applications of machine learning different types of machine learning and how to build a machine learning system or model then various kinds of algorithms and later on in this series we are going to take a Hands-On you know case studies or doing programming for various kinds of up algorithms so what is machine learning so machine learning is nothin\n"
          ]
        }
      ]
    },
    {
      "cell_type": "code",
      "source": [
        "# Configure Gemini API\n",
        "\n",
        "import google.generativeai as genai\n",
        "\n",
        "from google.colab import userdata\n",
        "\n",
        "GOOGLE_API_KEY=userdata.get('GOOGLE_API_KEY')\n",
        "\n",
        "genai.configure(api_key=GOOGLE_API_KEY)\n",
        "\n",
        "\n",
        "\n",
        "\n"
      ],
      "metadata": {
        "id": "4eKeXEonXUaS"
      },
      "execution_count": null,
      "outputs": []
    },
    {
      "cell_type": "code",
      "source": [
        "def summarize_video(text):\n",
        "\n",
        "    \"\"\"Summarizes the YouTube video transcript using Gemini AI.\"\"\"\n",
        "\n",
        "    model = genai.GenerativeModel(\"gemini-1.5-flash\")\n",
        "\n",
        "    prompt = f\"Summarize the following YouTube video transcript:\\n\\n{text}\"\n",
        "\n",
        "    response = model.generate_content(prompt)\n",
        "\n",
        "    return response.text\n",
        "\n",
        "summary = summarize_video(video_transcript)\n",
        "\n",
        "print(\"Summary:\\n\", summary)\n",
        "\n",
        "\n",
        "\n",
        "\n"
      ],
      "metadata": {
        "colab": {
          "base_uri": "https://localhost:8080/",
          "height": 158
        },
        "id": "tyfeKPoaXV_y",
        "outputId": "f51a5150-1642-45e6-d882-19f7e749df94"
      },
      "execution_count": null,
      "outputs": [
        {
          "output_type": "stream",
          "name": "stdout",
          "text": [
            "Summary:\n",
            " This YouTube video introduces machine learning, covering its definition, applications, types, and the process of building a machine learning model.  Machine learning is defined as learning from data, a subfield of AI enabling smarter applications.  The video highlights applications in speech recognition, web search, recommendation systems, computer vision, information retrieval, and fraud detection.\n",
            "\n",
            "Three main types of machine learning are explained: supervised (learning from labeled data, with sub-types classification and regression), unsupervised (learning from unlabeled data, examples including clustering and dimensionality reduction), and reinforcement learning (learning through trial and error with rewards and penalties).\n",
            "\n",
            "The video details the process of building a machine learning model, which involves data pre-processing (cleaning, scaling, encoding, feature selection), algorithm selection (choosing appropriate algorithms for classification or regression), model building, and evaluation.  The presenter emphasizes the importance of building multiple models and comparing their performance.  Finally, the presenter promises hands-on case studies and programming examples in future videos, focusing on algorithms like decision trees, random forests, and K-nearest neighbors.\n",
            "\n"
          ]
        }
      ]
    },
    {
      "cell_type": "code",
      "source": [
        "def extract_video_insights(text):\n",
        "\n",
        "    \"\"\"Extracts key insights from the YouTube video transcript.\"\"\"\n",
        "\n",
        "    model = genai.GenerativeModel(\"gemini-1.5-flash\")\n",
        "\n",
        "    prompt = f\"Extract the key takeaways and insights from this YouTube video:\\n\\n{text}\"\n",
        "\n",
        "    response = model.generate_content(prompt)\n",
        "\n",
        "    return response.text\n",
        "\n",
        "insights = extract_video_insights(video_transcript)\n",
        "\n",
        "print(\"Key Insights:\\n\", insights)\n",
        "\n",
        "\n",
        "\n",
        "\n"
      ],
      "metadata": {
        "colab": {
          "base_uri": "https://localhost:8080/",
          "height": 1000
        },
        "id": "jGPLGh9jXWHz",
        "outputId": "a42c16fb-b0fb-4c31-a2f6-ae6d8824aab8"
      },
      "execution_count": null,
      "outputs": [
        {
          "output_type": "stream",
          "name": "stdout",
          "text": [
            "Key Insights:\n",
            " This YouTube video provides an introduction to machine learning. Here are the key takeaways and insights:\n",
            "\n",
            "**What is Machine Learning?**\n",
            "\n",
            "* **Definition:** Machine learning is essentially learning from data. It's a subfield of artificial intelligence that enables the creation of smarter applications.  The core function is to build and study systems capable of learning from data without explicit programming.  A system learns when its performance on a task improves based on experience (past data).\n",
            "\n",
            "* **Arthur Samuel's Definition:**  A field of study that gives computers the ability to learn without being explicitly programmed.\n",
            "\n",
            "**Applications of Machine Learning:**\n",
            "\n",
            "The video highlights the broad applicability of machine learning across various domains, including:\n",
            "\n",
            "* **Speech Recognition:**  Powering applications like Siri, Alexa, and Google Now.\n",
            "* **Web Search:**  Improving search engine results using algorithms like Naive Bayes.\n",
            "* **Recommendation Systems:**  Suggesting products or other items based on user data.\n",
            "* **Computer Vision:**  Enabling computers to \"see\" and understand images and videos.\n",
            "* **Information Retrieval:**  Processing vast amounts of data to deliver relevant information (e.g., Google search).\n",
            "* **Fraud Detection:** Identifying malicious activities online.\n",
            "\n",
            "\n",
            "**Types of Machine Learning:**\n",
            "\n",
            "The video categorizes machine learning into three main types:\n",
            "\n",
            "* **Supervised Learning:** The training data includes labeled data (with known outcomes).  It's further divided into:\n",
            "    * **Classification:** Predicting categorical outcomes (e.g., spam/not spam, type of flower).\n",
            "    * **Regression:** Predicting continuous outcomes (e.g., salary, temperature).\n",
            "\n",
            "* **Unsupervised Learning:** The training data is unlabeled.  Techniques include:\n",
            "    * **Clustering:** Grouping similar data points together (e.g., customer segmentation).\n",
            "    * **Dimensionality Reduction:** Reducing the number of variables while preserving important information.\n",
            "\n",
            "* **Reinforcement Learning:**  An agent learns through trial and error within an environment, receiving rewards or penalties for its actions (e.g., game playing, robotics).\n",
            "\n",
            "\n",
            "**Building a Machine Learning Model:**\n",
            "\n",
            "The video outlines a typical workflow:\n",
            "\n",
            "1. **Data Preprocessing:** Cleaning and preparing the data (handling missing values, scaling features, encoding categorical variables, feature selection/reduction).\n",
            "2. **Algorithm Selection:** Choosing an appropriate algorithm based on the problem type (classification, regression, etc.).\n",
            "3. **Model Training:** Applying the chosen algorithm to the training data to build a predictive model.\n",
            "4. **Model Evaluation:** Assessing the model's performance using metrics like accuracy.\n",
            "\n",
            "\n",
            "**Key Terms:**\n",
            "\n",
            "The video emphasizes understanding key terminology, including:\n",
            "\n",
            "* **Features/Attributes/Measurements/Dimensions:** Columns in the dataset (excluding the target variable).\n",
            "* **Samples/Instances/Observations:** Rows in the dataset.\n",
            "* **Target Variable/Response Variable/Class Label:** The column to be predicted.\n",
            "\n",
            "\n",
            "**Next Steps:**  The presenter promises future videos covering practical implementation of various algorithms and building machine learning models.\n",
            "\n"
          ]
        }
      ]
    },
    {
      "cell_type": "code",
      "source": [
        "def ask_question_about_video(text, question):\n",
        "\n",
        "    \"\"\"Answers user questions about the YouTube video content.\"\"\"\n",
        "\n",
        "    model = genai.GenerativeModel(\"gemini-1.5-flash\")\n",
        "\n",
        "    prompt = f\"The following is a YouTube video transcript:\\n\\n{text}\\n\\nAnswer this question based on the content:\\n{question}\"\n",
        "\n",
        "    response = model.generate_content(prompt)\n",
        "\n",
        "    return response.text\n",
        "\n",
        "question = \"What is the main topic discussed in the video?\"\n",
        "\n",
        "answer = ask_question_about_video(video_transcript, question)\n",
        "\n",
        "print(\"Answer:\\n\", answer)\n",
        "\n",
        "\n",
        "\n",
        "\n"
      ],
      "metadata": {
        "id": "ZDbZ0KsoYz9C",
        "outputId": "a0ba4f5c-6822-4f52-8b41-2664db7c5b04",
        "colab": {
          "base_uri": "https://localhost:8080/",
          "height": 89
        }
      },
      "execution_count": null,
      "outputs": [
        {
          "output_type": "stream",
          "name": "stdout",
          "text": [
            "Answer:\n",
            " The main topic of the YouTube video is an introduction to machine learning.  The video covers what machine learning is, its various applications, different types of machine learning (supervised, unsupervised, and reinforcement learning),  the process of building a machine learning model, common algorithms used, and a brief overview of the steps involved in creating a machine learning system.  The presenter promises more in-depth, hands-on tutorials in future videos.\n",
            "\n"
          ]
        }
      ]
    },
    {
      "cell_type": "code",
      "source": [
        "def analyze_sentiment(text):\n",
        "\n",
        "    \"\"\"Performs sentiment analysis on the YouTube video transcript.\"\"\"\n",
        "\n",
        "    model = genai.GenerativeModel(\"gemini-1.5-flash\")\n",
        "\n",
        "    prompt = f\"Analyze the sentiment of this YouTube video transcript. Is it positive, negative, or neutral?\\n\\n{text}\"\n",
        "\n",
        "    response = model.generate_content(prompt)\n",
        "\n",
        "    return response.text\n",
        "\n",
        "sentiment = analyze_sentiment(video_transcript)\n",
        "\n",
        "print(\"Sentiment Analysis:\\n\", sentiment)"
      ],
      "metadata": {
        "id": "CkAGbOLnYrHd",
        "outputId": "94ecbb38-491f-46c9-f002-797c268d0021",
        "colab": {
          "base_uri": "https://localhost:8080/",
          "height": 89
        }
      },
      "execution_count": null,
      "outputs": [
        {
          "output_type": "stream",
          "name": "stdout",
          "text": [
            "Sentiment Analysis:\n",
            " The sentiment of the YouTube video transcript is overwhelmingly **positive**.  The speaker is enthusiastic and encouraging throughout.  While the subject matter (machine learning) is complex, the presenter uses a positive and approachable tone to explain it.  Words and phrases like \"smarter applications,\" \"very good,\" \"very intelligent application,\" and \"very easy\" contribute to the positive sentiment. The speaker also repeatedly emphasizes the practical application and usefulness of machine learning, further enhancing the positive feeling.  There's no negativity or criticism present in the transcript.\n",
            "\n"
          ]
        }
      ]
    },
    {
      "cell_type": "code",
      "source": [
        "def ask_question_about_video(text, question):\n",
        "\n",
        "    \"\"\"Answers user questions about the YouTube video content.\"\"\"\n",
        "\n",
        "    model = genai.GenerativeModel(\"gemini-1.5-flash\")\n",
        "\n",
        "    prompt = f\"The following is a YouTube video transcript:\\n\\n{text}\\n\\nAnswer this question based on the content:\\n{question}\"\n",
        "\n",
        "    response = model.generate_content(prompt)\n",
        "\n",
        "    return response.text\n",
        "\n",
        "question = \"What is the main topic discussed in the video?\"\n",
        "\n",
        "answer = ask_question_about_video(video_transcript, question)\n",
        "\n",
        "print(\"Answer:\\n\", answer)\n",
        "\n",
        "\n",
        "\n",
        "\n"
      ],
      "metadata": {
        "id": "wASOx0lrZZ9E",
        "outputId": "0d6dd2ef-24ce-45a1-c690-f4bda8dce7a3",
        "colab": {
          "base_uri": "https://localhost:8080/",
          "height": 89
        }
      },
      "execution_count": null,
      "outputs": [
        {
          "output_type": "stream",
          "name": "stdout",
          "text": [
            "Answer:\n",
            " The main topic of the YouTube video is an introduction to machine learning.  The video covers what machine learning is, its various applications, different types of machine learning (supervised, unsupervised, and reinforcement learning),  how to build a machine learning model (including data preprocessing steps), and an overview of different algorithms used in machine learning.  The speaker also promises hands-on case studies and programming examples in future videos.\n",
            "\n"
          ]
        }
      ]
    },
    {
      "cell_type": "code",
      "source": [
        "# @title Default title text\n",
        "# 15-03-2025"
      ],
      "metadata": {
        "id": "QPKcPsXLQxuW"
      },
      "execution_count": 11,
      "outputs": []
    },
    {
      "cell_type": "code",
      "source": [
        "# Configure Gemini API\n",
        "\n",
        "import google.generativeai as genai\n",
        "\n",
        "from google.colab import userdata\n",
        "\n",
        "GOOGLE_API_KEY=userdata.get('GOOGLE_API_KEY')\n",
        "\n",
        "genai.configure(api_key=GOOGLE_API_KEY)\n",
        "\n",
        "\n",
        "\n",
        "\n"
      ],
      "metadata": {
        "id": "awF3bw_0ZazA"
      },
      "execution_count": 1,
      "outputs": []
    },
    {
      "cell_type": "code",
      "source": [
        "pip install PyPDF2"
      ],
      "metadata": {
        "id": "ZQ5PhdzDOFWc",
        "outputId": "80b647e2-7ae8-4cfb-9163-3d38f3225b37",
        "colab": {
          "base_uri": "https://localhost:8080/"
        }
      },
      "execution_count": 2,
      "outputs": [
        {
          "output_type": "stream",
          "name": "stdout",
          "text": [
            "Collecting PyPDF2\n",
            "  Downloading pypdf2-3.0.1-py3-none-any.whl.metadata (6.8 kB)\n",
            "Downloading pypdf2-3.0.1-py3-none-any.whl (232 kB)\n",
            "\u001b[2K   \u001b[90m━━━━━━━━━━━━━━━━━━━━━━━━━━━━━━━━━━━━━━━━\u001b[0m \u001b[32m232.6/232.6 kB\u001b[0m \u001b[31m3.3 MB/s\u001b[0m eta \u001b[36m0:00:00\u001b[0m\n",
            "\u001b[?25hInstalling collected packages: PyPDF2\n",
            "Successfully installed PyPDF2-3.0.1\n"
          ]
        }
      ]
    },
    {
      "cell_type": "code",
      "source": [
        "import PyPDF2\n",
        "def extract_text_from_pdf(pdf_path):\n",
        "\n",
        "    \"\"\"Extracts text from a  given health report PDF using PyPDF2 .\"\"\"\n",
        "    text = \"\"\n",
        "    with open(pdf_path, 'rb') as file:\n",
        "        reader = PyPDF2.PdfReader(file)\n",
        "        for page in reader.pages:\n",
        "            text += page.extract_text() + \"\\n\"\n",
        "    return text\n",
        "\n",
        ""
      ],
      "metadata": {
        "id": "oVc4_TCvORe0"
      },
      "execution_count": 5,
      "outputs": []
    },
    {
      "cell_type": "code",
      "source": [
        "def extract_health_insights(text):\n",
        "  \"\"\"Asks Gemini AI to extract health insights from the given the report.\"\"\"\n",
        "  model = genai.GenerativeModel(\"gemini-1.5-flash\")\n",
        "  prompt = f\"Extract the key health insights from this report:\\n\\n{text}\"\n",
        "  response = model.generate_content(prompt)\n",
        "  return response.text\n",
        "pdf_file = \"health_report.pdf\"\n",
        "pdf_text = extract_text_from_pdf(pdf_file)\n",
        "insights = extract_health_insights(pdf_text)\n",
        "print(\"Health Insights:\\n\", insights)"
      ],
      "metadata": {
        "id": "SzCaNRvPPP_G",
        "outputId": "1817a20d-8ef3-46f5-da68-1aa534734385",
        "colab": {
          "base_uri": "https://localhost:8080/",
          "height": 419
        }
      },
      "execution_count": 9,
      "outputs": [
        {
          "output_type": "stream",
          "name": "stdout",
          "text": [
            "Health Insights:\n",
            " Mr. Kishan Goud's lab results show:\n",
            "\n",
            "**Infectious Disease Markers:**\n",
            "\n",
            "* **Negative for:** Dengue (NS1 antigen, IgG, IgM), Malaria (Plasmodium falciparum and vivax).\n",
            "* **Widal test:** Elevated titers for *Salmonella Typhi* \"O\" (1:160) and \"H\" (1:80), and *Salmonella Paratyphi* \"AH\" and \"BH\" (1:20).  The reference range is 1:20 for all.  This suggests a possible past or current infection with *Salmonella Typhi*, though further investigation may be needed to confirm active infection.  The *Paratyphi* results are within the reference range.\n",
            "\n",
            "**Hematology:**\n",
            "\n",
            "* **Complete Blood Picture (CBC):**  All values (Hemoglobin, RBC, WBC, Platelets, PCV, Differential Count) are within normal limits except for a slightly elevated ESR (26 mm/hr in the first hour, 52 mm/hr in the second hour; normal range 0-8 mm/hr in the first hour).  The elevated ESR could indicate inflammation.\n",
            "\n",
            "**Blood Chemistry:**\n",
            "\n",
            "* **Liver Function Tests (LFTs):** All liver enzymes (bilirubin, alkaline phosphatase, SGOT, SGPT) are within normal ranges.\n",
            "* **Renal Function:** Serum creatinine is within the normal range (0.8 mg/dl).\n",
            "* **Electrolytes:** Serum sodium is slightly low (122 mmol/l; normal range 135-146 mmol/l), while potassium and chloride are within normal ranges.\n",
            "* **Blood Glucose:** Random blood glucose is not provided but HbA1c is 5.4% which falls within the normal non-diabetic range (4-6%).\n",
            "\n",
            "\n",
            "**Overall:**  The most significant finding is the elevated Widal test results suggesting *Salmonella Typhi* exposure. The slightly elevated ESR suggests inflammation. The slightly low sodium warrants further investigation.  All other tests are within normal limits.  The doctor should interpret these results in the context of the patient's clinical presentation.\n",
            "\n"
          ]
        }
      ]
    },
    {
      "cell_type": "code",
      "source": [
        "def Summarize_health_report(text):\n",
        "  \"\"\"Summarizes the YouTube video transcript using Gemini AI.\"\"\"\n",
        "  model = genai.GenerativeModel(\"gemini-1.5-flash\")\n",
        "  prompt = f\"Summarize the following YouTube video transcript:\\n\\n{text}\"\n",
        "  response = model.generate_content(prompt)\n",
        "  return response.text\n",
        "summary = Summarize_health_report(pdf_text)\n",
        "print(\"Summary:\\n\", summary)\n"
      ],
      "metadata": {
        "id": "h1AO63jVPedu",
        "outputId": "45971b03-a29d-4e91-b2ee-7e482a144898",
        "colab": {
          "base_uri": "https://localhost:8080/",
          "height": 367
        }
      },
      "execution_count": 13,
      "outputs": [
        {
          "output_type": "stream",
          "name": "stdout",
          "text": [
            "Summary:\n",
            " This document shows the laboratory results for Mr. Kishan Goud (MR Number: MR2100003157) from February 1st, 2021.  Multiple tests were conducted across different departments (Microbiology & Serology, Hematology & Clinical Pathology, and Biochemistry).\n",
            "\n",
            "**Key findings include:**\n",
            "\n",
            "* **Widal Test:**  Elevated titers for *Salmonella Typhi* \"O\" (1:160) and \"H\" (1:80), suggesting possible typhoid fever.  *Salmonella Paratyphi* \"AH\" and \"BH\" were also positive at the reference range limit.\n",
            "* **Dengue Serology:** Negative for NS1 antigen, IgG, and IgM antibodies.\n",
            "* **ESR (Erythrocyte Sedimentation Rate):** Elevated (26 mm/hr in the first hour, 52 mm/hr in the second hour), indicating inflammation.\n",
            "* **Malaria Test:** Negative for both *Plasmodium falciparum* and *Plasmodium vivax*.\n",
            "* **Complete Blood Picture (CBC):**  Hemoglobin, RBC, WBC, and platelet counts within normal ranges, with normal differential counts.\n",
            "* **HbA1c:** 5.4%, within the normal non-diabetic range.\n",
            "* **Serum Creatinine:** 0.8 mg/dl, within the normal range.\n",
            "* **Random Blood Glucose:**  The result is missing from the provided text.\n",
            "* **Liver Function Tests (LFTs):** All values within normal ranges.\n",
            "* **Serum Electrolytes:** Serum sodium (122 mmol/l) is slightly below the normal range; potassium and chloride are within normal ranges.\n",
            "\n",
            "\n",
            "Overall, the results suggest possible typhoid fever indicated by the Widal test and inflammation (elevated ESR), while other infectious disease tests (Dengue, Malaria) were negative. The slightly low sodium warrants further investigation.  All other blood tests are within the normal range, aside from the low serum sodium level.\n",
            "\n"
          ]
        }
      ]
    },
    {
      "cell_type": "code",
      "source": [
        "def detect_abnormalities(text):\n",
        "  \"\"\"Analyzes lab test results and flags abnormal values.\"\"\"\n",
        "  model = genai.GenerativeModel(\"gemini-1.5-flash\")\n",
        "  prompt = f\"Analyze the lab test results in this report and flag any abnormal values:\\n\\n{text}\"\n",
        "  response = model.generate_content(prompt)\n",
        "  return response.text\n",
        "abnormalities = detect_abnormalities(pdf_text)\n",
        "print(\"Potential Abnormalities:\\n\", abnormalities)"
      ],
      "metadata": {
        "id": "HdWUn93gS583",
        "outputId": "e2cd25e1-6bc9-49db-bf8f-e65b6b93f6ae",
        "colab": {
          "base_uri": "https://localhost:8080/",
          "height": 367
        }
      },
      "execution_count": 16,
      "outputs": [
        {
          "output_type": "stream",
          "name": "stdout",
          "text": [
            "Potential Abnormalities:\n",
            " Based on the provided lab results and reference ranges, the following values are abnormal for Mr. Kishan Goud:\n",
            "\n",
            "* **Widal Test:**  S. Typhi \"O\" (1:160) and S. Typhi \"H\" (1:80) are significantly higher than the reference range of 1:20. This suggests a possible *Salmonella Typhi* infection (Typhoid fever).  Further investigation and clinical correlation are needed to confirm.\n",
            "\n",
            "* **ESR (Erythrocyte Sedimentation Rate):** Both the 1st hour (26 mm/hr) and 2nd hour (52 mm/hr) ESR values are elevated above the normal range (0-8 mm/hr for the first hour).  Elevated ESR indicates inflammation in the body, which could be related to the potential typhoid infection or another underlying condition.\n",
            "\n",
            "The remaining values fall within their respective reference ranges, although some are at the lower or upper limits.  For example:\n",
            "\n",
            "* **RBC (Red Blood Cell count):** Slightly below the lower limit of normal.  This warrants further evaluation in the context of the other results.\n",
            "\n",
            "* **Serum Chloride:** Slightly below the lower limit of the normal range. This may warrant follow-up depending on clinical presentation.\n",
            "\n",
            "* **Serum Sodium:** Below the reference range.  Hyponatremia (low sodium) needs further evaluation by a physician.\n",
            "\n",
            "\n",
            "\n",
            "**Important Note:** I am an AI and cannot give medical advice.  This analysis is for informational purposes only.  The interpretation of these results requires clinical correlation by a qualified healthcare professional.  Mr. Kishan Goud should consult his doctor to discuss these results and any necessary follow-up testing or treatment.\n",
            "\n"
          ]
        }
      ]
    },
    {
      "cell_type": "code",
      "source": [
        "def explain_medical_terms(text):\n",
        "  \"\"\"Asks Gemini AI to explain medical terminology in the given text.\"\"\"\n",
        "  model = genai.GenerativeModel(\"gemini-1.5-flash\")\n",
        "  prompt = f\"Explain the following medical terminology in detail:\\n\\n{text}\"\n",
        "  response = model.generate_content(prompt)\n",
        "  return response.text\n",
        "explanation = explain_medical_terms(pdf_text)\n",
        "print(\"Simplified Explaination:\\n\", explanation)"
      ],
      "metadata": {
        "id": "6vvrRGVeU2di",
        "outputId": "72e57ec1-e2df-4791-9beb-3cd77ffcd96e",
        "colab": {
          "base_uri": "https://localhost:8080/",
          "height": 1000
        }
      },
      "execution_count": 17,
      "outputs": [
        {
          "output_type": "stream",
          "name": "stdout",
          "text": [
            "Simplified Explaination:\n",
            " This report shows the results of various blood tests performed on Mr. Kishan Goud. Let's break down each section:\n",
            "\n",
            "**1. Widal Test:** This test is used to detect antibodies against *Salmonella* bacteria, which cause typhoid fever (typhoid and paratyphoid fevers).\n",
            "\n",
            "* **S. Typhi \"O\" 1:160:** This indicates a 1:160 dilution of the patient's serum still shows a positive reaction with the \"O\" antigen of *Salmonella Typhi*.  The \"O\" antigen is a somatic antigen (part of the bacterial cell wall). A titer of 1:160 suggests a possible past or current infection.  The reference range is 1:20.  Values above this suggest a positive result.\n",
            "\n",
            "* **S. Typhi \"H\" 1:80:** This shows a 1:80 dilution showing a positive reaction with the \"H\" antigen of *Salmonella Typhi*. The \"H\" antigen is a flagellar antigen (part of the bacterial flagella).  A titer of 1:80 also suggests a possible past or current infection. The reference range is 1:20.\n",
            "\n",
            "* **S. Paratyphi \"AH\" 1:20:** This result is within the normal range (1:20) for the \"AH\" antigen of *Salmonella Paratyphi A*.\n",
            "\n",
            "* **S. Paratyphi \"BH\" 1:20:** This result is within the normal range (1:20) for the \"BH\" antigen of *Salmonella Paratyphi B*.\n",
            "\n",
            "**In summary for the Widal test:** The elevated titers for *S. Typhi* \"O\" and \"H\" antigens suggest a possible past or present *Salmonella Typhi* infection (typhoid fever). The results for *S. Paratyphi* antigens are negative.  However, the Widal test is not entirely definitive.  Further tests might be needed to confirm a diagnosis.\n",
            "\n",
            "\n",
            "**2. Dengue Serology:** This tests for dengue fever, a viral infection transmitted by mosquitoes.\n",
            "\n",
            "* **Dengue NS1 Antigen: Negative:**  The NS1 antigen is a protein produced by the dengue virus early in the infection. A negative result means the antigen wasn't detected, suggesting no acute dengue infection.\n",
            "\n",
            "* **Dengue IgG: Negative:** IgG antibodies are produced later in a dengue infection (or after a previous infection). A negative result indicates no past dengue infection or it's too early in the current infection to detect them.\n",
            "\n",
            "* **Dengue IgM: Negative:** IgM antibodies are the first antibodies produced during a dengue infection.  A negative result suggests no recent dengue infection.\n",
            "\n",
            "**In summary for Dengue Serology:** All dengue tests were negative, making an acute or recent dengue infection unlikely.\n",
            "\n",
            "\n",
            "**3. Erythrocyte Sedimentation Rate (ESR):** This test measures how quickly red blood cells settle in a tube over a period of time.  An elevated ESR can indicate inflammation or infection in the body.\n",
            "\n",
            "* **ESR 1st Hour: 26 mm/hr:**  This is elevated above the normal range (0-8 mm/hr).\n",
            "\n",
            "* **ESR 2nd Hour: 52 mm/hr:** This is also significantly elevated.\n",
            "\n",
            "**In summary for ESR:** The significantly elevated ESR suggests the presence of inflammation somewhere in the body.  Further investigation is required to determine the source of inflammation.\n",
            "\n",
            "\n",
            "**4. Rapid Malaria Test:** This test screens for the presence of malaria parasites in the blood.\n",
            "\n",
            "* **Rapid Malaria Test P.V: Negative:** Negative for *Plasmodium vivax*.\n",
            "\n",
            "* **Rapid Malaria Test P.F: Negative:** Negative for *Plasmodium falciparum*.  These are two common species of malaria-causing parasites.\n",
            "\n",
            "**In summary for Rapid Malaria Test:**  The results are negative for both *Plasmodium vivax* and *Plasmodium falciparum*, ruling out malaria.\n",
            "\n",
            "\n",
            "**5. Complete Blood Picture (CBC):** This provides a comprehensive assessment of various blood components.  All values are within the normal range unless stated.\n",
            "\n",
            "* **Hemoglobin (Hb): 13.6 gms%** (Normal)\n",
            "* **Red Blood Cells (RBC): 4.3 mill/cumm** (Slightly low, but within acceptable range)\n",
            "* **White Blood Cells (WBC): 7,200 cells/cumm** (Normal)\n",
            "* **Platelet Count: 2.0 lakhs/cumm** (Normal)\n",
            "* **Packed Cell Volume (PCV): 40.5%** (Normal)\n",
            "* **Differential Count:**  The percentages of different types of white blood cells are all within the normal ranges.\n",
            "* **Peripheral Blood Smear:**  Description of the appearance of blood cells under a microscope, which is normal in this case.\n",
            "\n",
            "**In summary for CBC:** The CBC shows generally normal blood counts, though slightly low RBC count requires consideration in the light of other tests and patient history.\n",
            "\n",
            "\n",
            "**6. HbA1c:** This measures the average blood glucose level over the past 2-3 months.  It's used to monitor diabetes control.\n",
            "\n",
            "* **HbA1c: 5.4%:** This falls within the normal non-diabetic range (4-6%), indicating good blood sugar control.\n",
            "\n",
            "\n",
            "**7. Serum Creatinine:** This test assesses kidney function.\n",
            "\n",
            "* **Serum Creatinine: 0.8 mg/dl:** This is within the normal range (0.6 - 1.25 mg/dl), indicating normal kidney function.\n",
            "\n",
            "\n",
            "**8. Random Blood Glucose:** This measures blood glucose at a random time.\n",
            "\n",
            "* **Random Blood Glucose (RBG):  Not provided in this result**  The range is given (60-170 mg/dl) but a value is missing.\n",
            "\n",
            "**9. Liver Function Test (LFT):**  These tests assess the health of the liver. All results are within normal range, with the exception of ESR (indicated inflammation).\n",
            "\n",
            "* **Total Bilirubin, Direct Bilirubin, Indirect Bilirubin, Alkaline Phosphatase, SGOT, SGPT, Total Protein, Albumin, Globulin, A/G Ratio:** All values are within normal ranges.\n",
            "\n",
            "**10. Serum Electrolytes:** These tests measure the levels of electrolytes in the blood, which are essential for many bodily functions.\n",
            "\n",
            "* **Serum Sodium, Serum Potassium, Serum Chloride:**  Sodium is slightly low (122 mmol/l, normal range 135-146 mmol/l), others are within the normal range.  Low sodium could be related to several factors and needs further investigation.\n",
            "\n",
            "\n",
            "**Overall Assessment:**\n",
            "\n",
            "Mr. Kishan Goud's test results show some inconsistencies. While many values are within normal ranges, the elevated ESR and slightly low sodium level indicate the need for further investigation to determine the underlying cause of the inflammation and electrolyte imbalance. The Widal test suggests a possible past or present typhoid fever, but this requires confirmation. The negative dengue and malaria tests rule out those infections.  A physician should interpret these results in the context of the patient's medical history, physical examination, and other clinical findings to reach a diagnosis and formulate a treatment plan.  The slightly low RBC count also merits attention.\n",
            "\n"
          ]
        }
      ]
    },
    {
      "cell_type": "code",
      "source": [
        "def ask_gemini_about_report(text, question):\n",
        "  \"\"\"Allows users to ask questions about their health report.\"\"\"\n",
        "  model = genai.GenerativeModel(\"gemini-1.5-flash\")\n",
        "  prompt = f\"The following is a YouTube video transcript:\\n\\n{text}\\n\\nAnswer this question based on the content:\\n{question}\"\n",
        "  response = model.generate_content(prompt)\n",
        "  return response.text\n",
        "question = \"What is the main topic discussed in the video?\"\n",
        "answer = ask_gemini_about_report(pdf_text, question)\n",
        "print(\"Answer:\\n\", answer)"
      ],
      "metadata": {
        "id": "ibLqraQuWYn8",
        "outputId": "67681891-c55f-438a-9a5a-4ec0a6de5d74",
        "colab": {
          "base_uri": "https://localhost:8080/",
          "height": 89
        }
      },
      "execution_count": 18,
      "outputs": [
        {
          "output_type": "stream",
          "name": "stdout",
          "text": [
            "Answer:\n",
            " The video presents the laboratory test results for Mr. Kishan Goud, covering various areas including:  Widal test (for typhoid), dengue serology, ESR (erythrocyte sedimentation rate), malaria test, complete blood picture (including hemoglobin, RBC, WBC, platelets), HbA1c, serum creatinine, random blood glucose, liver function tests, and serum electrolytes.  Therefore, the main topic is **Mr. Kishan Goud's laboratory test results and their interpretation.**\n",
            "\n"
          ]
        }
      ]
    },
    {
      "cell_type": "code",
      "source": [],
      "metadata": {
        "id": "uOGT7moXXwvn"
      },
      "execution_count": null,
      "outputs": []
    },
    {
      "cell_type": "code",
      "source": [],
      "metadata": {
        "id": "vM1xm9YQYRbf"
      },
      "execution_count": null,
      "outputs": []
    }
  ]
}