{
 "cells": [
  {
   "cell_type": "code",
   "execution_count": null,
   "id": "b3e6de10-0af2-4587-8b20-ac8c81dd60c8",
   "metadata": {},
   "outputs": [],
   "source": [
    "import io\n",
    "import random\n",
    "import string \n",
    "import warnings\n",
    "warnings.filterwarnings('ignore')\n",
    "import numpy as np\n",
    "from sklearn.feature_extraction.text import TfidfVectorizer \n",
    "from sklearn.metrics.pairwise import cosine_similarity\n",
    "from nltk.stem import WordNetLemmatizer"
   ]
  },
  {
   "cell_type": "code",
   "execution_count": null,
   "id": "7a55a800-0ee2-4080-ace7-3b3082ee6438",
   "metadata": {},
   "outputs": [],
   "source": [
    "#!pip install nltk\n",
    "import nltk"
   ]
  },
  {
   "cell_type": "code",
   "execution_count": null,
   "id": "95e49ac6-b9ba-42e2-b245-0591f981bf39",
   "metadata": {},
   "outputs": [],
   "source": [
    "nltk.download('popular', quiet=True)\n",
    "nltk.download('punkt')\n",
    "nltk.download('wordnet')"
   ]
  },
  {
   "cell_type": "code",
   "execution_count": null,
   "id": "1533df8f-ed2a-4706-9be7-4984edccb228",
   "metadata": {},
   "outputs": [],
   "source": [
    "f=open('input.txt','r',errors = 'ignore')\n",
    "raw = f.read()\n",
    "raw = raw.lower()"
   ]
  },
  {
   "cell_type": "code",
   "execution_count": null,
   "id": "ed5a4379-21fc-4eff-b1c8-cfd87a6812f7",
   "metadata": {},
   "outputs": [],
   "source": [
    "import nltk\n",
    "sent_tokens = nltk.sent_tokenize(raw)\n",
    "word_tokens = nltk.word_tokenize(raw)"
   ]
  },
  {
   "cell_type": "code",
   "execution_count": null,
   "id": "917c4c7c-77cd-47ac-a46b-9e080b4a8a97",
   "metadata": {},
   "outputs": [],
   "source": [
    "import nltk\n",
    "sent_tokens = nltk.sent_tokenize(raw)\n",
    "word_tokens = nltk.word_tokenize(raw)"
   ]
  },
  {
   "cell_type": "code",
   "execution_count": null,
   "id": "349d68eb-44e6-4864-91ff-cdde5d5b66ae",
   "metadata": {},
   "outputs": [],
   "source": [
    "lemmer = nltk.stem.WordNetLemmatizer()\n",
    "def LemTokens(tokens):\n",
    "    return [lemmer.lemmatize(token) for token in tokens]\n",
    "remove_punct_dict = dict((ord(punct), None) for punct in string.punctuation)\n",
    "def LemNormalize(text):\n",
    "    return LemTokens(nltk.word_tokenize(text.lower().translate(remove_punct_dict)))"
   ]
  },
  {
   "cell_type": "code",
   "execution_count": 10,
   "id": "c59396af-e716-44cd-ade5-6c58110741af",
   "metadata": {},
   "outputs": [
    {
     "ename": "NameError",
     "evalue": "name 'raw' is not defined",
     "output_type": "error",
     "traceback": [
      "\u001b[1;31m---------------------------------------------------------------------------\u001b[0m",
      "\u001b[1;31mNameError\u001b[0m                                 Traceback (most recent call last)",
      "Cell \u001b[1;32mIn[10], line 3\u001b[0m\n\u001b[0;32m      1\u001b[0m \u001b[38;5;28;01mimport\u001b[39;00m \u001b[38;5;21;01mnltk\u001b[39;00m\n\u001b[1;32m----> 3\u001b[0m sent_tokens \u001b[38;5;241m=\u001b[39m nltk\u001b[38;5;241m.\u001b[39msent_tokenize(raw)\u001b[38;5;66;03m# converts to list of sentences \u001b[39;00m\n\u001b[0;32m      5\u001b[0m word_tokens \u001b[38;5;241m=\u001b[39m nltk\u001b[38;5;241m.\u001b[39mword_tokenize(raw)\n",
      "\u001b[1;31mNameError\u001b[0m: name 'raw' is not defined"
     ]
    }
   ],
   "source": [
    "import nltk\n",
    "sent_tokens = nltk.sent_tokenize(raw)\n",
    "word_tokens = nltk.word_tokenize(raw)"
   ]
  },
  {
   "cell_type": "code",
   "execution_count": 14,
   "id": "f5efaec6-6455-4616-906c-31659a935820",
   "metadata": {},
   "outputs": [],
   "source": [
    "lemmer = nltk.stem.WordNetLemmatizer()\n",
    "def LemTokens(tokens):\n",
    "    return [lemmer.lemmatize(token) for token in tokens]\n",
    "remove_punct_dict = dict((ord(punct), None) for punct in string.punctuation)\n",
    "def LemNormalize(text):\n",
    "    return LemTokens(nltk.word_tokenize(text.lower().translate(remove_punct_dict)))"
   ]
  },
  {
   "cell_type": "code",
   "execution_count": 15,
   "id": "69c46588-8237-4832-a76f-576149bdf83c",
   "metadata": {},
   "outputs": [],
   "source": [
    "GREETING_INPUTS = (\"hello\", \"hi\", \"greetings\", \"what's up\",\"hey\",\\\n",
    "\n",
    "                   \"how are you?\")\n",
    "\n",
    "GREETING_RESPONSES = [\"hi\", \"hey\", \"hi there\", \"hello\", \\\n",
    "\n",
    "                      \"I am glad! You are talking to me\", \\\n",
    "\n",
    "                      \"I am fine! How about you?\"]\n",
    "def greeting(sentence):\n",
    "    for word in sentence.split():\n",
    "        if word.lower() in GREETING_INPUTS:\n",
    "            return random.choice(GREETING_RESPONSES)"
   ]
  },
  {
   "cell_type": "code",
   "execution_count": 13,
   "id": "b537ca5d-e861-45de-9847-c8db38a31d90",
   "metadata": {},
   "outputs": [],
   "source": [
    "GREETING_INPUTS = (\"hello\", \"hi\", \"greetings\", \"what's up\",\"hey\",\\\n",
    "\n",
    "                   \"how are you?\")\n",
    "\n",
    "GREETING_RESPONSES = [\"hi\", \"hey\", \"hi there\", \"hello\", \\\n",
    "\n",
    "                      \"I am glad! You are talking to me\", \\\n",
    "\n",
    "                      \"I am fine! How about you?\"]\n",
    "\n",
    "def greeting(sentence): \n",
    "\n",
    "    for word in sentence.split():\n",
    "\n",
    "        if word.lower() in GREETING_INPUTS:\n",
    "\n",
    "            return random.choice(GREETING_RESPONSES)\n",
    "\n",
    "\n",
    "\n",
    "\n"
   ]
  },
  {
   "cell_type": "code",
   "execution_count": 17,
   "id": "54e33c82-b007-4618-8d96-7b4b0c2c18d7",
   "metadata": {},
   "outputs": [],
   "source": [
    "def response(user_response):\n",
    "    robo_response=''\n",
    "    sent_tokens.append(user_response)\n",
    "    TfidfVec = TfidfVectorizer(tokenizer=LemNormalize, stop_words='english')\n",
    "    tfidf = TfidfVec.fit_transform(sent_tokens)\n",
    "    vals = cosine_similarity(tfidf[-1], tfidf)\n",
    "    idx=vals.argsort()[0][-2]\n",
    "    flat = vals.flatten()\n",
    "    flat.sort()\n",
    "    req_tfidf = flat[-2]\n",
    "    if(req_tfidf==0):\n",
    "        robo_response=robo_response+\"I am sorry! I don't understand you.\"\n",
    "        return robo_response\n",
    "    else:\n",
    "        robo_response = robo_response+sent_tokens[idx]\n",
    "        return robo_response"
   ]
  },
  {
   "cell_type": "code",
   "execution_count": 21,
   "id": "b4a45d88-dfbc-44b5-a4d0-debf593d4a74",
   "metadata": {},
   "outputs": [
    {
     "name": "stdout",
     "output_type": "stream",
     "text": [
      "SABot: My name is SABot. How can I assist you?. \\If you want to exit, type Bye!\n"
     ]
    },
    {
     "name": "stdin",
     "output_type": "stream",
     "text": [
      " Bye\n"
     ]
    },
    {
     "name": "stdout",
     "output_type": "stream",
     "text": [
      "SABot: Bye! take care...\n"
     ]
    }
   ],
   "source": [
    "flag=True\n",
    "\n",
    "print(\"SABot: My name is SABot. How can I assist you?. \\If you want to exit, type Bye!\")\n",
    "\n",
    "while(flag==True):\n",
    "\n",
    "    user_response = input()\n",
    "\n",
    "    user_response=user_response.lower()\n",
    "\n",
    "    if(user_response!='bye'):\n",
    "\n",
    "        if(user_response=='thanks' or user_response=='thank you' ):\n",
    "\n",
    "            flag=False\n",
    "\n",
    "            print(\"SABot: You are welcome...\")\n",
    "\n",
    "        else:\n",
    "\n",
    "            if(greeting(user_response)!=None):\n",
    "\n",
    "                print(\"SABot: \"+greeting(user_response))\n",
    "\n",
    "            else:\n",
    "\n",
    "                print(\"SABot: \",end=\" \")\n",
    "\n",
    "                print(response(user_response))\n",
    "\n",
    "                sent_tokens.remove(user_response)\n",
    "\n",
    "    else:\n",
    "\n",
    "        flag=False\n",
    "\n",
    "        print(\"SABot: Bye! take care...\")"
   ]
  },
  {
   "cell_type": "code",
   "execution_count": null,
   "id": "d3826706-fb81-4d54-80ea-dcc7550c1cfa",
   "metadata": {},
   "outputs": [
    {
     "name": "stdout",
     "output_type": "stream",
     "text": [
      "SABot: My name is SABot. How can I assist you?. \\If you want to exit, type Bye!\n"
     ]
    },
    {
     "name": "stdin",
     "output_type": "stream",
     "text": [
      " hi\n"
     ]
    },
    {
     "name": "stdout",
     "output_type": "stream",
     "text": [
      "SABot: I am fine! How about you?\n"
     ]
    },
    {
     "name": "stdin",
     "output_type": "stream",
     "text": [
      " hello\n"
     ]
    },
    {
     "name": "stdout",
     "output_type": "stream",
     "text": [
      "SABot: hello\n"
     ]
    }
   ],
   "source": [
    "flag=True\n",
    "\n",
    "print(\"SABot: My name is SABot. How can I assist you?. \\If you want to exit, type Bye!\")\n",
    "\n",
    "while(flag==True):\n",
    "\n",
    "    user_response = input()\n",
    "\n",
    "    user_response=user_response.lower()\n",
    "\n",
    "    if(user_response!='bye'):\n",
    "\n",
    "        if(user_response=='thanks' or user_response=='thank you' ):\n",
    "\n",
    "            flag=False\n",
    "\n",
    "            print(\"SABot: You are welcome...\")\n",
    "\n",
    "        else:\n",
    "\n",
    "            if(greeting(user_response)!=None):\n",
    "\n",
    "                print(\"SABot: \"+greeting(user_response))\n",
    "\n",
    "            else:\n",
    "\n",
    "                print(\"SABot: \",end=\" \")\n",
    "\n",
    "                print(response(user_response))\n",
    "\n",
    "                sent_tokens.remove(user_response)\n",
    "\n",
    "    else:\n",
    "\n",
    "        flag=False\n",
    "\n",
    "        print(\"SABot: Bye! take care...\")"
   ]
  },
  {
   "cell_type": "code",
   "execution_count": null,
   "id": "f8309b4b-2c2f-46c2-adb8-c3a9831fefda",
   "metadata": {},
   "outputs": [],
   "source": []
  }
 ],
 "metadata": {
  "kernelspec": {
   "display_name": "Python 3 (ipykernel)",
   "language": "python",
   "name": "python3"
  },
  "language_info": {
   "codemirror_mode": {
    "name": "ipython",
    "version": 3
   },
   "file_extension": ".py",
   "mimetype": "text/x-python",
   "name": "python",
   "nbconvert_exporter": "python",
   "pygments_lexer": "ipython3",
   "version": "3.11.5"
  }
 },
 "nbformat": 4,
 "nbformat_minor": 5
}
