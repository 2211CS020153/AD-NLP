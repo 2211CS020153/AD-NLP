{
 "cells": [
  {
   "cell_type": "code",
   "execution_count": 6,
   "id": "c0618f94-9720-4119-9b18-6ea775bf3e98",
   "metadata": {},
   "outputs": [
    {
     "name": "stdout",
     "output_type": "stream",
     "text": [
      "Collecting seaborn\n",
      "  Obtaining dependency information for seaborn from https://files.pythonhosted.org/packages/83/11/00d3c3dfc25ad54e731d91449895a79e4bf2384dc3ac01809010ba88f6d5/seaborn-0.13.2-py3-none-any.whl.metadata\n",
      "  Downloading seaborn-0.13.2-py3-none-any.whl.metadata (5.4 kB)\n",
      "Requirement already satisfied: numpy!=1.24.0,>=1.20 in c:\\users\\g. ram reddy\\anaconda3\\lib\\site-packages (from seaborn) (2.2.1)\n",
      "Requirement already satisfied: pandas>=1.2 in c:\\users\\g. ram reddy\\anaconda3\\lib\\site-packages (from seaborn) (2.2.3)\n",
      "Requirement already satisfied: matplotlib!=3.6.1,>=3.4 in c:\\users\\g. ram reddy\\anaconda3\\lib\\site-packages (from seaborn) (3.10.0)\n",
      "Requirement already satisfied: contourpy>=1.0.1 in c:\\users\\g. ram reddy\\anaconda3\\lib\\site-packages (from matplotlib!=3.6.1,>=3.4->seaborn) (1.3.1)\n",
      "Requirement already satisfied: cycler>=0.10 in c:\\users\\g. ram reddy\\anaconda3\\lib\\site-packages (from matplotlib!=3.6.1,>=3.4->seaborn) (0.12.1)\n",
      "Requirement already satisfied: fonttools>=4.22.0 in c:\\users\\g. ram reddy\\anaconda3\\lib\\site-packages (from matplotlib!=3.6.1,>=3.4->seaborn) (4.55.4)\n",
      "Requirement already satisfied: kiwisolver>=1.3.1 in c:\\users\\g. ram reddy\\anaconda3\\lib\\site-packages (from matplotlib!=3.6.1,>=3.4->seaborn) (1.4.8)\n",
      "Requirement already satisfied: packaging>=20.0 in c:\\users\\g. ram reddy\\anaconda3\\lib\\site-packages (from matplotlib!=3.6.1,>=3.4->seaborn) (24.1)\n",
      "Requirement already satisfied: pillow>=8 in c:\\users\\g. ram reddy\\anaconda3\\lib\\site-packages (from matplotlib!=3.6.1,>=3.4->seaborn) (10.4.0)\n",
      "Requirement already satisfied: pyparsing>=2.3.1 in c:\\users\\g. ram reddy\\anaconda3\\lib\\site-packages (from matplotlib!=3.6.1,>=3.4->seaborn) (3.2.1)\n",
      "Requirement already satisfied: python-dateutil>=2.7 in c:\\users\\g. ram reddy\\anaconda3\\lib\\site-packages (from matplotlib!=3.6.1,>=3.4->seaborn) (2.9.0.post0)\n",
      "Requirement already satisfied: pytz>=2020.1 in c:\\users\\g. ram reddy\\anaconda3\\lib\\site-packages (from pandas>=1.2->seaborn) (2024.1)\n",
      "Requirement already satisfied: tzdata>=2022.7 in c:\\users\\g. ram reddy\\anaconda3\\lib\\site-packages (from pandas>=1.2->seaborn) (2025.1)\n",
      "Requirement already satisfied: six>=1.5 in c:\\users\\g. ram reddy\\anaconda3\\lib\\site-packages (from python-dateutil>=2.7->matplotlib!=3.6.1,>=3.4->seaborn) (1.16.0)\n",
      "Downloading seaborn-0.13.2-py3-none-any.whl (294 kB)\n",
      "   ---------------------------------------- 0.0/294.9 kB ? eta -:--:--\n",
      "   - -------------------------------------- 10.2/294.9 kB ? eta -:--:--\n",
      "   - -------------------------------------- 10.2/294.9 kB ? eta -:--:--\n",
      "   - -------------------------------------- 10.2/294.9 kB ? eta -:--:--\n",
      "   ----- --------------------------------- 41.0/294.9 kB 245.8 kB/s eta 0:00:02\n",
      "   -------- ------------------------------ 61.4/294.9 kB 299.4 kB/s eta 0:00:01\n",
      "   --------- ----------------------------- 71.7/294.9 kB 281.8 kB/s eta 0:00:01\n",
      "   ------------------ ------------------- 143.4/294.9 kB 532.5 kB/s eta 0:00:01\n",
      "   ---------------------- --------------- 174.1/294.9 kB 499.5 kB/s eta 0:00:01\n",
      "   ---------------------- --------------- 174.1/294.9 kB 499.5 kB/s eta 0:00:01\n",
      "   ---------------------- --------------- 174.1/294.9 kB 499.5 kB/s eta 0:00:01\n",
      "   ---------------------- --------------- 174.1/294.9 kB 499.5 kB/s eta 0:00:01\n",
      "   ---------------------- --------------- 174.1/294.9 kB 499.5 kB/s eta 0:00:01\n",
      "   ---------------------- --------------- 174.1/294.9 kB 499.5 kB/s eta 0:00:01\n",
      "   ---------------------- --------------- 174.1/294.9 kB 499.5 kB/s eta 0:00:01\n",
      "   ---------------------- --------------- 174.1/294.9 kB 499.5 kB/s eta 0:00:01\n",
      "   ---------------------- --------------- 174.1/294.9 kB 499.5 kB/s eta 0:00:01\n",
      "   ---------------------- --------------- 174.1/294.9 kB 499.5 kB/s eta 0:00:01\n",
      "   ---------------------- --------------- 174.1/294.9 kB 499.5 kB/s eta 0:00:01\n",
      "   ---------------------- --------------- 174.1/294.9 kB 499.5 kB/s eta 0:00:01\n",
      "   ---------------------- --------------- 174.1/294.9 kB 499.5 kB/s eta 0:00:01\n",
      "   ---------------------- --------------- 174.1/294.9 kB 499.5 kB/s eta 0:00:01\n",
      "   ---------------------- --------------- 174.1/294.9 kB 499.5 kB/s eta 0:00:01\n",
      "   ---------------------- --------------- 174.1/294.9 kB 499.5 kB/s eta 0:00:01\n",
      "   ---------------------- --------------- 174.1/294.9 kB 499.5 kB/s eta 0:00:01\n",
      "   ---------------------- --------------- 174.1/294.9 kB 499.5 kB/s eta 0:00:01\n",
      "   ---------------------- --------------- 174.1/294.9 kB 499.5 kB/s eta 0:00:01\n",
      "   ---------------------- --------------- 174.1/294.9 kB 499.5 kB/s eta 0:00:01\n",
      "   ---------------------- --------------- 174.1/294.9 kB 499.5 kB/s eta 0:00:01\n",
      "   ---------------------- --------------- 174.1/294.9 kB 499.5 kB/s eta 0:00:01\n",
      "   ---------------------- --------------- 174.1/294.9 kB 499.5 kB/s eta 0:00:01\n",
      "   ---------------------- --------------- 174.1/294.9 kB 499.5 kB/s eta 0:00:01\n",
      "   ---------------------- --------------- 174.1/294.9 kB 499.5 kB/s eta 0:00:01\n",
      "   ---------------------- --------------- 174.1/294.9 kB 499.5 kB/s eta 0:00:01\n",
      "   ---------------------- --------------- 174.1/294.9 kB 499.5 kB/s eta 0:00:01\n",
      "   ---------------------- --------------- 174.1/294.9 kB 499.5 kB/s eta 0:00:01\n",
      "   ---------------------- --------------- 174.1/294.9 kB 499.5 kB/s eta 0:00:01\n",
      "   ---------------------- --------------- 174.1/294.9 kB 499.5 kB/s eta 0:00:01\n",
      "   ---------------------- --------------- 174.1/294.9 kB 499.5 kB/s eta 0:00:01\n",
      "   ---------------------- --------------- 174.1/294.9 kB 499.5 kB/s eta 0:00:01\n",
      "   ---------------------- --------------- 174.1/294.9 kB 499.5 kB/s eta 0:00:01\n",
      "   ---------------------- --------------- 174.1/294.9 kB 499.5 kB/s eta 0:00:01\n",
      "   ---------------------- --------------- 174.1/294.9 kB 499.5 kB/s eta 0:00:01\n",
      "   ---------------------- --------------- 174.1/294.9 kB 499.5 kB/s eta 0:00:01\n",
      "   ---------------------- --------------- 174.1/294.9 kB 499.5 kB/s eta 0:00:01\n",
      "   ---------------------- --------------- 174.1/294.9 kB 499.5 kB/s eta 0:00:01\n",
      "   ---------------------- --------------- 174.1/294.9 kB 499.5 kB/s eta 0:00:01\n",
      "   ---------------------- --------------- 174.1/294.9 kB 499.5 kB/s eta 0:00:01\n",
      "   ---------------------- --------------- 174.1/294.9 kB 499.5 kB/s eta 0:00:01\n",
      "   ------------------------- ------------- 194.6/294.9 kB 83.1 kB/s eta 0:00:02\n",
      "   ------------------------------- ------- 235.5/294.9 kB 98.8 kB/s eta 0:00:01\n",
      "   ------------------------------- ------- 235.5/294.9 kB 98.8 kB/s eta 0:00:01\n",
      "   ------------------------------- ------- 235.5/294.9 kB 98.8 kB/s eta 0:00:01\n",
      "   ------------------------------- ------- 235.5/294.9 kB 98.8 kB/s eta 0:00:01\n",
      "   --------------------------------- ----- 256.0/294.9 kB 98.9 kB/s eta 0:00:01\n",
      "   --------------------------------- ----- 256.0/294.9 kB 98.9 kB/s eta 0:00:01\n",
      "   -------------------------------------- 294.9/294.9 kB 110.4 kB/s eta 0:00:00\n",
      "Installing collected packages: seaborn\n",
      "Successfully installed seaborn-0.13.2\n",
      "Note: you may need to restart the kernel to use updated packages.\n"
     ]
    }
   ],
   "source": [
    "pip install seaborn"
   ]
  },
  {
   "cell_type": "code",
   "execution_count": 7,
   "id": "2c4419ca-afc0-4e2f-a60e-747864caf7bb",
   "metadata": {},
   "outputs": [],
   "source": [
    "import pandas as pd\n",
    "\n",
    "import numpy as np\n",
    "\n",
    "import matplotlib.pyplot as plt\n",
    "\n",
    "import seaborn as sns"
   ]
  },
  {
   "cell_type": "code",
   "execution_count": 9,
   "id": "288aa2a8-963e-4422-85ae-e7e3bfc492c6",
   "metadata": {},
   "outputs": [
    {
     "data": {
      "text/html": [
       "<div>\n",
       "<style scoped>\n",
       "    .dataframe tbody tr th:only-of-type {\n",
       "        vertical-align: middle;\n",
       "    }\n",
       "\n",
       "    .dataframe tbody tr th {\n",
       "        vertical-align: top;\n",
       "    }\n",
       "\n",
       "    .dataframe thead th {\n",
       "        text-align: right;\n",
       "    }\n",
       "</style>\n",
       "<table border=\"1\" class=\"dataframe\">\n",
       "  <thead>\n",
       "    <tr style=\"text-align: right;\">\n",
       "      <th></th>\n",
       "      <th>id</th>\n",
       "      <th>title</th>\n",
       "      <th>author</th>\n",
       "      <th>text</th>\n",
       "      <th>label</th>\n",
       "    </tr>\n",
       "  </thead>\n",
       "  <tbody>\n",
       "    <tr>\n",
       "      <th>0</th>\n",
       "      <td>0</td>\n",
       "      <td>House Dem Aide: We Didn’t Even See Comey’s Let...</td>\n",
       "      <td>Darrell Lucus</td>\n",
       "      <td>House Dem Aide: We Didn’t Even See Comey’s Let...</td>\n",
       "      <td>1</td>\n",
       "    </tr>\n",
       "    <tr>\n",
       "      <th>1</th>\n",
       "      <td>1</td>\n",
       "      <td>FLYNN: Hillary Clinton, Big Woman on Campus - ...</td>\n",
       "      <td>Daniel J. Flynn</td>\n",
       "      <td>Ever get the feeling your life circles the rou...</td>\n",
       "      <td>0</td>\n",
       "    </tr>\n",
       "    <tr>\n",
       "      <th>2</th>\n",
       "      <td>2</td>\n",
       "      <td>Why the Truth Might Get You Fired</td>\n",
       "      <td>Consortiumnews.com</td>\n",
       "      <td>Why the Truth Might Get You Fired October 29, ...</td>\n",
       "      <td>1</td>\n",
       "    </tr>\n",
       "    <tr>\n",
       "      <th>3</th>\n",
       "      <td>3</td>\n",
       "      <td>15 Civilians Killed In Single US Airstrike Hav...</td>\n",
       "      <td>Jessica Purkiss</td>\n",
       "      <td>Videos 15 Civilians Killed In Single US Airstr...</td>\n",
       "      <td>1</td>\n",
       "    </tr>\n",
       "    <tr>\n",
       "      <th>4</th>\n",
       "      <td>4</td>\n",
       "      <td>Iranian woman jailed for fictional unpublished...</td>\n",
       "      <td>Howard Portnoy</td>\n",
       "      <td>Print \\nAn Iranian woman has been sentenced to...</td>\n",
       "      <td>1</td>\n",
       "    </tr>\n",
       "  </tbody>\n",
       "</table>\n",
       "</div>"
      ],
      "text/plain": [
       "   id                                              title              author  \\\n",
       "0   0  House Dem Aide: We Didn’t Even See Comey’s Let...       Darrell Lucus   \n",
       "1   1  FLYNN: Hillary Clinton, Big Woman on Campus - ...     Daniel J. Flynn   \n",
       "2   2                  Why the Truth Might Get You Fired  Consortiumnews.com   \n",
       "3   3  15 Civilians Killed In Single US Airstrike Hav...     Jessica Purkiss   \n",
       "4   4  Iranian woman jailed for fictional unpublished...      Howard Portnoy   \n",
       "\n",
       "                                                text  label  \n",
       "0  House Dem Aide: We Didn’t Even See Comey’s Let...      1  \n",
       "1  Ever get the feeling your life circles the rou...      0  \n",
       "2  Why the Truth Might Get You Fired October 29, ...      1  \n",
       "3  Videos 15 Civilians Killed In Single US Airstr...      1  \n",
       "4  Print \\nAn Iranian woman has been sentenced to...      1  "
      ]
     },
     "execution_count": 9,
     "metadata": {},
     "output_type": "execute_result"
    }
   ],
   "source": [
    "data = pd.read_csv(r\"C:\\Users\\G. RAM REDDY\\Downloads\\fake_news.csv\")\n",
    "data.head()"
   ]
  },
  {
   "cell_type": "code",
   "execution_count": 10,
   "id": "ffc80181-3a50-4057-9a0c-c50b4b95bbd7",
   "metadata": {},
   "outputs": [
    {
     "name": "stdout",
     "output_type": "stream",
     "text": [
      "<class 'pandas.core.frame.DataFrame'>\n",
      "RangeIndex: 20800 entries, 0 to 20799\n",
      "Data columns (total 5 columns):\n",
      " #   Column  Non-Null Count  Dtype \n",
      "---  ------  --------------  ----- \n",
      " 0   id      20800 non-null  int64 \n",
      " 1   title   20242 non-null  object\n",
      " 2   author  18843 non-null  object\n",
      " 3   text    20761 non-null  object\n",
      " 4   label   20800 non-null  int64 \n",
      "dtypes: int64(2), object(3)\n",
      "memory usage: 812.6+ KB\n"
     ]
    }
   ],
   "source": [
    "data.info()"
   ]
  },
  {
   "cell_type": "code",
   "execution_count": 11,
   "id": "81cc3334-7565-41ee-848f-7de730e5a69d",
   "metadata": {},
   "outputs": [
    {
     "data": {
      "text/plain": [
       "id           0\n",
       "title      558\n",
       "author    1957\n",
       "text        39\n",
       "label        0\n",
       "dtype: int64"
      ]
     },
     "execution_count": 11,
     "metadata": {},
     "output_type": "execute_result"
    }
   ],
   "source": [
    "data.isna().sum()"
   ]
  },
  {
   "cell_type": "code",
   "execution_count": 12,
   "id": "2c24ab83-0644-411e-a9cd-82864287f405",
   "metadata": {},
   "outputs": [],
   "source": [
    "data = data.drop(['id'], axis=1)"
   ]
  },
  {
   "cell_type": "code",
   "execution_count": 13,
   "id": "eed9e99a-c0b0-4bc3-90c3-eee5056ed034",
   "metadata": {},
   "outputs": [],
   "source": [
    "# fill missing values with empty string\n",
    "data = data.fillna('')"
   ]
  },
  {
   "cell_type": "code",
   "execution_count": 14,
   "id": "7d89dded-9fef-4f0d-af7f-acdec2ad6053",
   "metadata": {},
   "outputs": [],
   "source": [
    "data['content'] = data['author']+' '+ data['title']+' '+data['text']"
   ]
  },
  {
   "cell_type": "code",
   "execution_count": 15,
   "id": "e8b6e794-6eea-4d0a-8c85-5adc1a6d93f6",
   "metadata": {},
   "outputs": [],
   "source": [
    "data = data.drop(['title','author', 'text'], axis=1)"
   ]
  },
  {
   "cell_type": "code",
   "execution_count": 16,
   "id": "248bd9c1-6015-4086-afe9-2fee7225f665",
   "metadata": {},
   "outputs": [
    {
     "data": {
      "text/html": [
       "<div>\n",
       "<style scoped>\n",
       "    .dataframe tbody tr th:only-of-type {\n",
       "        vertical-align: middle;\n",
       "    }\n",
       "\n",
       "    .dataframe tbody tr th {\n",
       "        vertical-align: top;\n",
       "    }\n",
       "\n",
       "    .dataframe thead th {\n",
       "        text-align: right;\n",
       "    }\n",
       "</style>\n",
       "<table border=\"1\" class=\"dataframe\">\n",
       "  <thead>\n",
       "    <tr style=\"text-align: right;\">\n",
       "      <th></th>\n",
       "      <th>label</th>\n",
       "      <th>content</th>\n",
       "    </tr>\n",
       "  </thead>\n",
       "  <tbody>\n",
       "    <tr>\n",
       "      <th>0</th>\n",
       "      <td>1</td>\n",
       "      <td>Darrell Lucus House Dem Aide: We Didn’t Even S...</td>\n",
       "    </tr>\n",
       "    <tr>\n",
       "      <th>1</th>\n",
       "      <td>0</td>\n",
       "      <td>Daniel J. Flynn FLYNN: Hillary Clinton, Big Wo...</td>\n",
       "    </tr>\n",
       "    <tr>\n",
       "      <th>2</th>\n",
       "      <td>1</td>\n",
       "      <td>Consortiumnews.com Why the Truth Might Get You...</td>\n",
       "    </tr>\n",
       "    <tr>\n",
       "      <th>3</th>\n",
       "      <td>1</td>\n",
       "      <td>Jessica Purkiss 15 Civilians Killed In Single ...</td>\n",
       "    </tr>\n",
       "    <tr>\n",
       "      <th>4</th>\n",
       "      <td>1</td>\n",
       "      <td>Howard Portnoy Iranian woman jailed for fictio...</td>\n",
       "    </tr>\n",
       "  </tbody>\n",
       "</table>\n",
       "</div>"
      ],
      "text/plain": [
       "   label                                            content\n",
       "0      1  Darrell Lucus House Dem Aide: We Didn’t Even S...\n",
       "1      0  Daniel J. Flynn FLYNN: Hillary Clinton, Big Wo...\n",
       "2      1  Consortiumnews.com Why the Truth Might Get You...\n",
       "3      1  Jessica Purkiss 15 Civilians Killed In Single ...\n",
       "4      1  Howard Portnoy Iranian woman jailed for fictio..."
      ]
     },
     "execution_count": 16,
     "metadata": {},
     "output_type": "execute_result"
    }
   ],
   "source": [
    "data.head()"
   ]
  },
  {
   "cell_type": "code",
   "execution_count": 18,
   "id": "547dafa8-cf21-48bf-9d5c-ab13e042fe33",
   "metadata": {},
   "outputs": [],
   "source": [
    "# Remove punctuation\n",
    "data['content'] = data['content'].str.replace('[^\\w\\s]','')"
   ]
  },
  {
   "cell_type": "code",
   "execution_count": 19,
   "id": "7f1b3c92-cb89-4d7d-9697-f39765c30697",
   "metadata": {},
   "outputs": [
    {
     "data": {
      "text/plain": [
       "0    Darrell Lucus House Dem Aide: We Didn’t Even S...\n",
       "1    Daniel J. Flynn FLYNN: Hillary Clinton, Big Wo...\n",
       "2    Consortiumnews.com Why the Truth Might Get You...\n",
       "3    Jessica Purkiss 15 Civilians Killed In Single ...\n",
       "4    Howard Portnoy Iranian woman jailed for fictio...\n",
       "Name: content, dtype: object"
      ]
     },
     "execution_count": 19,
     "metadata": {},
     "output_type": "execute_result"
    }
   ],
   "source": [
    "# Do lemmatization\n",
    "from nltk.stem import WordNetLemmatizer\n",
    "from textblob import Word\n",
    "data['content'] = data['content'].apply(lambda x: \" \".join([Word(word).lemmatize() for word in x.split()]))\n",
    "data['content'].head()"
   ]
  },
  {
   "cell_type": "code",
   "execution_count": 20,
   "id": "1aed2ad0-b65b-4543-b3c7-49dc4dd55f12",
   "metadata": {},
   "outputs": [],
   "source": [
    "#separating the data and label\n",
    "X = data[['content']]\n",
    "y = data['label']"
   ]
  },
  {
   "cell_type": "code",
   "execution_count": 21,
   "id": "31fdf1d7-54fb-47a3-b5e8-9a41b36d9177",
   "metadata": {},
   "outputs": [],
   "source": [
    "from sklearn.model_selection import train_test_split"
   ]
  },
  {
   "cell_type": "code",
   "execution_count": 22,
   "id": "b8f26dc9-951c-4bec-a555-0626a167e53e",
   "metadata": {},
   "outputs": [],
   "source": [
    "# splitting into training and testing data\n",
    "X_train,X_test,y_train,y_test=train_test_split(X,y,test_size=0.3, random_state=45, stratify=y)\n"
   ]
  },
  {
   "cell_type": "code",
   "execution_count": 23,
   "id": "a06ab1f7-a7d4-46ba-be49-e76e184f3064",
   "metadata": {},
   "outputs": [
    {
     "name": "stdout",
     "output_type": "stream",
     "text": [
      "(14560, 1)\n",
      "(14560,)\n",
      "(6240, 1)\n",
      "(6240,)\n"
     ]
    }
   ],
   "source": [
    "#validate the shape of train and test dataset\n",
    "print (X_train.shape)\n",
    "print (y_train.shape)\n",
    "print (X_test.shape)\n",
    "print (y_test.shape)"
   ]
  },
  {
   "cell_type": "code",
   "execution_count": 24,
   "id": "ee3294fd-8a62-43ec-bf02-3755759ba96e",
   "metadata": {},
   "outputs": [],
   "source": [
    "from sklearn.feature_extraction.text import TfidfVectorizer"
   ]
  },
  {
   "cell_type": "code",
   "execution_count": null,
   "id": "f6ad79df-0058-4ed0-8f8a-3f7ad49e9c75",
   "metadata": {},
   "outputs": [],
   "source": [
    "tfidf_vect = TfidfVectorizer(analyzer='word', token_pattern=r'\\w{1,}', max_features=5000)\n",
    "tfidf_vect.fit(data['content'])\n",
    "xtrain_tfidf = tfidf_vect.transform(X_train['content'])\n",
    "xtest_tfidf = tfidf_vect.transform(X_test['content'])"
   ]
  },
  {
   "cell_type": "code",
   "execution_count": null,
   "id": "d6e60b98-802b-4046-bb67-5741571805fd",
   "metadata": {},
   "outputs": [],
   "source": []
  }
 ],
 "metadata": {
  "kernelspec": {
   "display_name": "Python 3 (ipykernel)",
   "language": "python",
   "name": "python3"
  },
  "language_info": {
   "codemirror_mode": {
    "name": "ipython",
    "version": 3
   },
   "file_extension": ".py",
   "mimetype": "text/x-python",
   "name": "python",
   "nbconvert_exporter": "python",
   "pygments_lexer": "ipython3",
   "version": "3.11.5"
  }
 },
 "nbformat": 4,
 "nbformat_minor": 5
}
