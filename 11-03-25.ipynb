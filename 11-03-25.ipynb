{
  "nbformat": 4,
  "nbformat_minor": 0,
  "metadata": {
    "colab": {
      "provenance": [],
      "authorship_tag": "ABX9TyNsPeSisCk2IQ277BlmjXwP",
      "include_colab_link": true
    },
    "kernelspec": {
      "name": "python3",
      "display_name": "Python 3"
    },
    "language_info": {
      "name": "python"
    }
  },
  "cells": [
    {
      "cell_type": "markdown",
      "metadata": {
        "id": "view-in-github",
        "colab_type": "text"
      },
      "source": [
        "<a href=\"https://colab.research.google.com/github/2211CS020153/AD-NLP/blob/main/11-03-25.ipynb\" target=\"_parent\"><img src=\"https://colab.research.google.com/assets/colab-badge.svg\" alt=\"Open In Colab\"/></a>"
      ]
    },
    {
      "cell_type": "code",
      "source": [
        "import google.generativeai as genai\n",
        "\n",
        "from google.colab import userdata\n",
        "\n",
        "GOOGLE_API_KEY=userdata.get('GOOGLE_API_KEY')\n",
        "\n",
        "genai.configure(api_key=GOOGLE_API_KEY)\n",
        "\n",
        "\n",
        "\n",
        "\n"
      ],
      "metadata": {
        "id": "d4O3sN_ocHdv"
      },
      "execution_count": 7,
      "outputs": []
    },
    {
      "cell_type": "code",
      "source": [
        "import pathlib\n",
        "\n",
        "import textwrap\n",
        "\n",
        "from IPython.display import display, Markdown\n",
        "\n",
        "def to_markdown(text):\n",
        "\n",
        "  text = text.replace('•', '  *')\n",
        "\n",
        "  return Markdown(textwrap.indent(text, '> ', predicate=lambda _: True))\n",
        "\n",
        "\n",
        "\n",
        "\n"
      ],
      "metadata": {
        "id": "zGlZqWo3cOZ1"
      },
      "execution_count": 8,
      "outputs": []
    },
    {
      "cell_type": "code",
      "execution_count": 16,
      "metadata": {
        "colab": {
          "base_uri": "https://localhost:8080/",
          "height": 141
        },
        "id": "oU-LRgeAXfc4",
        "outputId": "8818dac8-e6d2-403e-8177-408a02610f9f"
      },
      "outputs": [
        {
          "output_type": "error",
          "ename": "AttributeError",
          "evalue": "module 'google.generativeai' has no attribute 'Client'",
          "traceback": [
            "\u001b[0;31m---------------------------------------------------------------------------\u001b[0m",
            "\u001b[0;31mAttributeError\u001b[0m                            Traceback (most recent call last)",
            "\u001b[0;32m<ipython-input-16-3c5178f3e270>\u001b[0m in \u001b[0;36m<cell line: 0>\u001b[0;34m()\u001b[0m\n\u001b[0;32m----> 1\u001b[0;31m \u001b[0mclient\u001b[0m \u001b[0;34m=\u001b[0m \u001b[0mgenai\u001b[0m\u001b[0;34m.\u001b[0m\u001b[0mClient\u001b[0m\u001b[0;34m(\u001b[0m\u001b[0mapi_key\u001b[0m\u001b[0;34m=\u001b[0m\u001b[0mGOOGLE_API_KEY\u001b[0m\u001b[0;34m)\u001b[0m\u001b[0;34m\u001b[0m\u001b[0;34m\u001b[0m\u001b[0m\n\u001b[0m",
            "\u001b[0;31mAttributeError\u001b[0m: module 'google.generativeai' has no attribute 'Client'"
          ]
        }
      ],
      "source": [
        "client = genai.Client(api_key=GOOGLE_API_KEY)"
      ]
    },
    {
      "cell_type": "code",
      "source": [
        "import pathlib\n",
        "import textwrap\n",
        "from IPython.display import display, Markdown\n",
        "def to_markdown(text):\n",
        "  text = text.replace('•', '  *')\n",
        "  return Markdown(textwrap.indent(text, '> ', predicate=lambda _: True))"
      ],
      "metadata": {
        "id": "e9zwFcTLYjuN"
      },
      "execution_count": 3,
      "outputs": []
    },
    {
      "cell_type": "code",
      "source": [
        "import PIL.Image\n",
        "img = PIL.Image.open('/content/image1.jpg')\n",
        "imgmodel = genai.GenerativeModel('gemini-1.5-flash')\n",
        "model = genai.GenerativeModel('gemini-1.5-flash')\n",
        "response = model.generate_content([\"Write a short, engaging blog post based on this picture.It should include a description of the meal in the photo and talk about my journey meal prepping.\", img],stream=True)\n",
        "response.resolve()"
      ],
      "metadata": {
        "id": "vmZO1fARYjw1"
      },
      "execution_count": 13,
      "outputs": []
    },
    {
      "cell_type": "code",
      "source": [
        "to_markdown(response.text)"
      ],
      "metadata": {
        "colab": {
          "base_uri": "https://localhost:8080/",
          "height": 484
        },
        "id": "CQRx-Cyqb0DQ",
        "outputId": "bfb18b82-e57d-46b4-f027-752129f9d0b9"
      },
      "execution_count": 17,
      "outputs": [
        {
          "output_type": "execute_result",
          "data": {
            "text/plain": [
              "<IPython.core.display.Markdown object>"
            ],
            "text/markdown": "> ## My Meal Prep Journey: From Chaos to Colorful Containers!\n> \n> Look at these beauties!  That's not just lunch, that's a testament to my newfound love of meal prepping.  These two containers hold perfectly portioned servings of deliciousness: tender chicken stir-fry with fluffy white rice, vibrant red and orange carrots, and a generous helping of broccoli.  The colors alone make me happy!\n> \n> My meal prep journey started as a chaotic mess.  I'd spend my evenings frantically searching for something healthy to eat, often resorting to takeout or unhealthy convenience food.  Sound familiar?\n> \n> Then, the scales tipped (literally!).  I decided enough was enough and plunged into the world of meal prepping.  At first, it felt overwhelming.  Grocery shopping took forever, the cooking seemed endless, and the clean-up... don't even get me started.\n> \n> But slowly, things changed.  I found recipes I actually enjoyed, developed a system for prepping ingredients in advance (chopping vegetables on Sunday is my new favorite self-care ritual!), and discovered the joy of having healthy, tasty meals ready to go whenever I needed them.\n> \n> Now, instead of stressful evenings, I have calm, controlled meals. I’ve got more energy, I feel healthier, and honestly, meal prepping has become a satisfying creative outlet.  \n> \n> So, if you're considering jumping on the meal prep bandwagon, I highly recommend it!  Start small, find recipes you love, and don't be afraid to experiment.  You might just surprise yourself with how much you enjoy it – and how much better you feel!  And who knows, maybe you'll even end up with a gorgeous spread of colorful goodness like this!\n"
          },
          "metadata": {},
          "execution_count": 17
        }
      ]
    },
    {
      "cell_type": "code",
      "source": [
        "response = model.generate_content([\"Generate an accurate caption for this image.\", img])\n",
        "print(response.text)"
      ],
      "metadata": {
        "colab": {
          "base_uri": "https://localhost:8080/",
          "height": 401
        },
        "id": "aOioXRAib0Gt",
        "outputId": "c9072a69-967b-49cf-b9e2-8161539676ba"
      },
      "execution_count": 20,
      "outputs": [
        {
          "output_type": "stream",
          "name": "stdout",
          "text": [
            "Here are a few caption options for the image:\n",
            "\n",
            "**Option 1 (Simple & descriptive):**\n",
            "\n",
            "> Healthy and delicious meal prep!  Chicken and broccoli with rice.\n",
            "\n",
            "**Option 2 (Slightly more engaging):**\n",
            "\n",
            "> Lunch goals!  These chicken and veggie bowls are packed with flavor and ready to go. #mealprep #healthyfood #lunchideas\n",
            "\n",
            "**Option 3 (Focus on convenience):**\n",
            "\n",
            "> Easy weeknight dinners start with meal prepping!  These tasty containers are perfect for grab-and-go lunches or dinners.\n",
            "\n",
            "**Option 4 (More detailed):**\n",
            "\n",
            "> Teriyaki chicken and broccoli bowls with rice.  A quick and easy way to enjoy a balanced and flavorful meal.  Perfect for meal prepping! #teriyaki #chicken #broccoli #mealprepsunday\n",
            "\n",
            "\n",
            "Choose the caption that best suits your intended audience and platform.\n",
            "\n"
          ]
        }
      ]
    },
    {
      "cell_type": "code",
      "source": [
        "from PIL import Image\n",
        "image_path = \"/content/girl.jpg\"\n",
        "image = Image.open(image_path)\n",
        "response = model.generate_content([\"Describe this image in detail.\", image])\n",
        "print(response.text)"
      ],
      "metadata": {
        "colab": {
          "base_uri": "https://localhost:8080/",
          "height": 211
        },
        "id": "FCn7RTEOfIWy",
        "outputId": "80cd40b8-dd66-4bea-8b21-b6cb1a154e94"
      },
      "execution_count": 22,
      "outputs": [
        {
          "output_type": "stream",
          "name": "stdout",
          "text": [
            "Here's a description of the image:\n",
            "\n",
            "Close-up view of a woman with shoulder-length, curly brown hair. \n",
            "\n",
            "\n",
            "She is smiling and gesturing with her right index finger, pointing towards something off-camera to the left. Her arms are partially crossed, and her expression is friendly and inviting, suggesting she is making a suggestion or pointing out something of interest.\n",
            "\n",
            "\n",
            "She's wearing a teal-colored, three-quarter-sleeved top or kurta with a subtle, repeating gold pattern. The top has a modest neckline. The background is a plain, bright white, which keeps the focus entirely on the woman. Her skin tone is medium, and she appears to have dark eyes and eyebrows. The overall impression is one of approachability and casual elegance.\n",
            "\n"
          ]
        }
      ]
    },
    {
      "cell_type": "code",
      "source": [
        "from PIL import Image\n",
        "image_path = \"/content/WhatsApp Image 2025-02-11 at 7.15.48 AM.jpeg\"\n",
        "image = Image.open(image_path)\n",
        "response = model.generate_content([\"Describe this image in detail.\", image])\n",
        "print(response.text)"
      ],
      "metadata": {
        "colab": {
          "base_uri": "https://localhost:8080/",
          "height": 315
        },
        "id": "bHPP0jsbg2bu",
        "outputId": "758c4d45-a9d7-4f22-b9b6-917ffe923579"
      },
      "execution_count": 24,
      "outputs": [
        {
          "output_type": "stream",
          "name": "stdout",
          "text": [
            "Here's a description of the image:\n",
            "\n",
            "Eye-level medium indoor shot of a young man seated in a dark brown leather armchair. \n",
            "\n",
            "\n",
            "Here's a breakdown of the details:\n",
            "\n",
            "* **The Man:** He appears to be of South Asian descent, with short dark hair and a mustache. He's wearing a light beige and brown checkered, long-sleeved button-down shirt and blue jeans. His expression is pleasant and relaxed; he's smiling slightly. One hand rests on the armrest of the chair, the other is casually raised. He is wearing a dark-colored wristwatch.\n",
            "\n",
            "* **The Chair:** A dark brown leather armchair with a slightly high back and rounded arms. It appears to be comfortable and well-maintained.\n",
            "\n",
            "* **The Setting:** The background features a green artificial grass wall, which is partially obscured by a dark brown wooden sign with the word \"Tile\" (partially visible) in green lettering. There is also a blurred, out-of-focus area behind the man which shows a glass partition with a partially visible green design or logo (perhaps \"Indian\" in green).\n",
            "\n",
            "* **Foreground:** A round, dark brown wooden table is in the foreground, partially obscuring the lower part of the man and chair. A pair of eyeglasses is partially visible on the table.\n",
            "\n",
            "The overall impression is a casual portrait of the young man, in a relaxed setting that might be a cafe, restaurant, or office waiting area. The lighting is fairly even and not harsh.\n"
          ]
        }
      ]
    },
    {
      "cell_type": "code",
      "source": [
        "response = model.generate_content([\"Describe this image in detail.\", image])\n",
        "print(response.text)"
      ],
      "metadata": {
        "colab": {
          "base_uri": "https://localhost:8080/",
          "height": 332
        },
        "id": "CWkCWBqAhekP",
        "outputId": "ff4f9a17-c381-4efd-a591-aa97b0f31878"
      },
      "execution_count": 25,
      "outputs": [
        {
          "output_type": "stream",
          "name": "stdout",
          "text": [
            "Here's a description of the image:\n",
            "\n",
            "Close-up view of a young man seated in a dark brown leather armchair. \n",
            "\n",
            "\n",
            "Here's a breakdown of the details:\n",
            "\n",
            "* **The Man:** He appears to be of South Asian descent, with short, dark hair. He's wearing a light beige and brown plaid long-sleeved shirt and blue jeans. His expression is pleasant, with a slight smile. He's casually sitting, with one arm resting on the armrest and the other hand raised near his face. He's wearing a dark-colored wristwatch.\n",
            "\n",
            "* **The Chair:** A dark brown leather armchair with a slightly high back. It appears to be comfortable and well-maintained.\n",
            "\n",
            "* **The Setting:** The background features a wall covered with artificial green turf or grass, which seems to be part of an interior design element. There's also a wooden sign partially visible, with stylized green lettering (partially visible; only “llew” is clear). Behind the chair and man is a window or glass partition with a white, somewhat abstract design and the partially visible green word \"IAM\" on it.\n",
            "\n",
            "* **Foreground:** A dark brown circular table is in the foreground, partially obscuring the lower portion of the man's legs. A pair of eyeglasses is visible on the table's edge.\n",
            "\n",
            "The overall impression is a casual portrait, possibly taken in a restaurant or cafe setting with a modern, somewhat stylized interior. The lighting is good, making the image clear and well-lit.\n",
            "\n"
          ]
        }
      ]
    },
    {
      "cell_type": "code",
      "source": [
        "image_path = \"/content/quote.jpg\"\n",
        "image = Image.open(image_path)\n",
        "response = model.generate_content([\"Describe this image in detail.\", image])\n",
        "print(response.text)"
      ],
      "metadata": {
        "colab": {
          "base_uri": "https://localhost:8080/",
          "height": 297
        },
        "id": "VA7tHx3OjEZ5",
        "outputId": "60809345-5c59-4a29-9568-77270ec64d72"
      },
      "execution_count": 26,
      "outputs": [
        {
          "output_type": "stream",
          "name": "stdout",
          "text": [
            "Here's a description of the image:\n",
            "\n",
            "Close-up view of four light-brown wooden blocks stacked vertically against a cracked, light-brown earth or stone background. \n",
            "\n",
            "\n",
            "The blocks have a simple, slightly rough texture. Each block contains a line of black, uppercase text. The text reads:\n",
            "\n",
            "* **FAILURE is not the** (top block)\n",
            "* **opposite of success** (second block)\n",
            "* **it's PART OF** (third block)\n",
            "* **SUCCESS** (bottom block)\n",
            "\n",
            "\n",
            "The background is a naturally textured surface with prominent cracks, suggesting dry, possibly arid land. The lighting is relatively bright, casting subtle shadows and highlighting the texture of both the blocks and the background. The overall mood is motivational and reflective.\n",
            "\n"
          ]
        }
      ]
    }
  ]
}